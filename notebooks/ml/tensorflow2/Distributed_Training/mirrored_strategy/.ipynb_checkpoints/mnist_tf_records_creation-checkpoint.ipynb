{
 "cells": [
  {
   "cell_type": "markdown",
   "metadata": {},
   "source": [
    "## Creates tf records from mnist dataset\n",
    "### TODO (davit): create this from feature store"
   ]
  },
  {
   "cell_type": "code",
   "execution_count": 1,
   "metadata": {},
   "outputs": [
    {
     "name": "stdout",
     "output_type": "stream",
     "text": [
      "Starting Spark application\n"
     ]
    },
    {
     "data": {
      "text/html": [
       "<table>\n",
       "<tr><th>ID</th><th>YARN Application ID</th><th>Kind</th><th>State</th><th>Spark UI</th><th>Driver log</th></tr><tr><td>1</td><td>application_1586507110993_0002</td><td>pyspark</td><td>idle</td><td><a target=\"_blank\" href=\"http://gpu.c.dpe-cloud-mle.internal:8088/proxy/application_1586507110993_0002/\">Link</a></td><td><a target=\"_blank\" href=\"http://gpu.c.dpe-cloud-mle.internal:8042/node/containerlogs/container_e01_1586507110993_0002_01_000001/demo_deep_learning_admin000__meb10000\">Link</a></td></tr></table>"
      ],
      "text/plain": [
       "<IPython.core.display.HTML object>"
      ]
     },
     "metadata": {},
     "output_type": "display_data"
    },
    {
     "name": "stdout",
     "output_type": "stream",
     "text": [
      "SparkSession available as 'spark'.\n"
     ]
    }
   ],
   "source": [
    "import gzip\n",
    "import os\n",
    "import tempfile\n",
    "\n",
    "import numpy\n",
    "from six.moves import urllib\n",
    "\n",
    "import tensorflow as tf"
   ]
  },
  {
   "cell_type": "code",
   "execution_count": 2,
   "metadata": {},
   "outputs": [],
   "source": [
    "def _read32(bytestream):\n",
    "  dt = numpy.dtype(numpy.uint32).newbyteorder('>')\n",
    "  return numpy.frombuffer(bytestream.read(4), dtype=dt)[0]\n",
    "\n",
    "def extract_images(f):\n",
    "  \"\"\"\n",
    "  Extract the images into a 4D uint8 numpy array.\n",
    "  \"\"\"\n",
    "  print('Extracting', f.name)\n",
    "  with gzip.GzipFile(fileobj=f) as bytestream:\n",
    "    magic = _read32(bytestream)\n",
    "    if magic != 2051:\n",
    "      raise ValueError('Invalid magic number %d in MNIST image file: %s' %\n",
    "                       (magic, f.name))\n",
    "    num_images = _read32(bytestream)\n",
    "    rows = _read32(bytestream)\n",
    "    cols = _read32(bytestream)\n",
    "    buf = bytestream.read(rows * cols * num_images)\n",
    "    data = numpy.frombuffer(buf, dtype=numpy.uint8)\n",
    "    data = data.reshape(num_images, rows, cols, 1)\n",
    "    return data\n",
    "\n",
    "def extract_labels(f, one_hot=False, num_classes=10):\n",
    "  \"\"\"\n",
    "  Extract the labels into a 1D uint8 numpy array.\n",
    "  \"\"\"\n",
    "  print('Extracting', f.name)\n",
    "  with gzip.GzipFile(fileobj=f) as bytestream:\n",
    "    magic = _read32(bytestream)\n",
    "    if magic != 2049:\n",
    "      raise ValueError('Invalid magic number %d in MNIST label file: %s' %\n",
    "                       (magic, f.name))\n",
    "    num_items = _read32(bytestream)\n",
    "    buf = bytestream.read(num_items)\n",
    "    labels = numpy.frombuffer(buf, dtype=numpy.uint8)\n",
    "    return labels"
   ]
  },
  {
   "cell_type": "code",
   "execution_count": 3,
   "metadata": {},
   "outputs": [],
   "source": [
    "def load_dataset(images_file, labels_file):\n",
    "  \"\"\"Download and parse MNIST dataset.\"\"\"\n",
    "\n",
    "  #images_file = download(images_file)\n",
    "  #labels_file = download(abels_file)\n",
    "\n",
    "  with tf.io.gfile.GFile(images_file, 'rb') as f:\n",
    "    images = extract_images(f)\n",
    "    images = images.reshape(images.shape[0], images.shape[1] * images.shape[2])\n",
    "    images = images.astype(numpy.float32)\n",
    "    images = numpy.multiply(images, 1.0 / 255.0)\n",
    "    \n",
    "  with tf.io.gfile.GFile(labels_file, 'rb') as f:\n",
    "    labels = extract_labels(f)\n",
    "\n",
    "  return images, labels\n"
   ]
  },
  {
   "cell_type": "code",
   "execution_count": 4,
   "metadata": {},
   "outputs": [
    {
     "name": "stdout",
     "output_type": "stream",
     "text": [
      "Extracting hdfs:///Projects/demo_deep_learning_admin000/TourData/mnist/MNIST_data/t10k-images-idx3-ubyte.gz\n",
      "Extracting hdfs:///Projects/demo_deep_learning_admin000/TourData/mnist/MNIST_data/train-labels-idx1-ubyte.gz\n",
      "Extracting hdfs:///Projects/demo_deep_learning_admin000/TourData/mnist/MNIST_data/t10k-images-idx3-ubyte.gz\n",
      "Extracting hdfs:///Projects/demo_deep_learning_admin000/TourData/mnist/MNIST_data/train-labels-idx1-ubyte.gz"
     ]
    }
   ],
   "source": [
    "import pydoop.hdfs as pydoop\n",
    "\n",
    "a = pydoop.path.abspath(\"hdfs:///Projects/demo_deep_learning_admin000/TourData/mnist/MNIST_data/t10k-images-idx3-ubyte.gz\")\n",
    "b = pydoop.path.abspath(\"hdfs:///Projects/demo_deep_learning_admin000/TourData/mnist/MNIST_data/train-labels-idx1-ubyte.gz\")\n",
    "\n",
    "c = pydoop.path.abspath(\"hdfs:///Projects/demo_deep_learning_admin000/TourData/mnist/MNIST_data/t10k-images-idx3-ubyte.gz\")\n",
    "d = pydoop.path.abspath(\"hdfs:///Projects/demo_deep_learning_admin000/TourData/mnist/MNIST_data/train-labels-idx1-ubyte.gz\")\n",
    "\n",
    "train_images, train_labels = load_dataset(images_file=a,labels_file=b)\n",
    "test_images, test_labels = load_dataset(c, d) \n"
   ]
  },
  {
   "cell_type": "code",
   "execution_count": 5,
   "metadata": {},
   "outputs": [],
   "source": [
    "from pyspark.sql.types import *\n",
    "train_data = [(train_images[i].tolist(), int(train_labels[i])) for i in range(len(train_images))]\n",
    "schema = StructType([StructField(\"image_raw\", ArrayType(FloatType())),\n",
    "                     StructField(\"label\", LongType())])\n",
    "train_df = spark.createDataFrame(train_data, schema)\n",
    "\n",
    "path = \"hdfs:///Projects/demo_deep_learning_admin000/TourData/mnist/train/df-mnist_train.tfrecord\"\n",
    "num_partition = 4\n",
    "train_df.repartition(num_partition).write.format(\"tfrecords\").mode(\"overwrite\").save(path)"
   ]
  },
  {
   "cell_type": "code",
   "execution_count": 7,
   "metadata": {},
   "outputs": [],
   "source": [
    "test_data = [(test_images[i].tolist(), int(test_labels[i])) for i in range(len(test_images))]\n",
    "schema = StructType([StructField(\"image_raw\", ArrayType(FloatType())),\n",
    "                     StructField(\"label\", LongType())])\n",
    "test_df = spark.createDataFrame(test_data, schema)\n",
    "\n",
    "path = \"hdfs:///Projects/demo_deep_learning_admin000/TourData/mnist/validation/df-mnist_test.tfrecord\"\n",
    "num_partition = 4\n",
    "test_df.repartition(num_partition).write.format(\"tfrecords\").mode(\"overwrite\").save(path)"
   ]
  },
  {
   "cell_type": "code",
   "execution_count": null,
   "metadata": {},
   "outputs": [],
   "source": []
  }
 ],
 "metadata": {
  "kernelspec": {
   "display_name": "PySpark",
   "language": "",
   "name": "pysparkkernel"
  },
  "language_info": {
   "codemirror_mode": {
    "name": "python",
    "version": 2
   },
   "mimetype": "text/x-python",
   "name": "pyspark",
   "pygments_lexer": "python2"
  }
 },
 "nbformat": 4,
 "nbformat_minor": 4
}