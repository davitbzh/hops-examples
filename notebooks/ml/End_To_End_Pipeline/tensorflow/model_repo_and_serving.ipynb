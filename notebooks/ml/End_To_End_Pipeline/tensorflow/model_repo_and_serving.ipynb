{
 "cells": [
  {
   "cell_type": "markdown",
   "metadata": {},
   "source": [
    "# Tensorflow Keras example with SavedModel model saving\n",
    "---\n",
    "\n",
    "<font color='red'> <h3>Tested with TensorFlow 2.2.0</h3></font>"
   ]
  },
  {
   "cell_type": "markdown",
   "metadata": {},
   "source": [
    "<p>\n",
    "<h1>Machine Learning on <a href=\"https://github.com/logicalclocks/hopsworks\">Hopsworks\n",
    "</a></h1> \n",
    "</p>\n",
    "\n",
    "![hops.png](../../images/hops.png)\n",
    "\n",
    "## The `hops` python module\n",
    "\n",
    "`hops` is a helper library for Hops that facilitates development by hiding the complexity of running applications and iteracting with services.\n",
    "\n",
    "Have a feature request or encountered an issue? Please let us know on <a href=\"https://github.com/logicalclocks/hops-util-py\">github</a>.\n",
    "\n",
    "### Using the `experiment` module\n",
    "\n",
    "To be able to run your Machine Learning code in Hopsworks, the code for the whole program needs to be provided and put inside a wrapper function. Everything, from importing libraries to reading data and defining the model and running the program needs to be put inside a wrapper function.\n",
    "\n",
    "The `experiment` module provides an api to Python programs such as TensorFlow, Keras and PyTorch on a Hopsworks on any number of machines and GPUs.\n",
    "\n",
    "An Experiment could be a single Python program, which we refer to as an **Experiment**. \n",
    "\n",
    "Grid search or genetic hyperparameter optimization such as differential evolution which runs several Experiments in parallel, which we refer to as **Parallel Experiment**. \n",
    "\n",
    "ParameterServerStrategy, CollectiveAllReduceStrategy and MultiworkerMirroredStrategy making multi-machine/multi-gpu training as simple as invoking a function for orchestration. This mode is referred to as **Distributed Training**.\n",
    "\n",
    "### Using the `tensorboard` module\n",
    "The `tensorboard` module allow us to get the log directory for summaries and checkpoints to be written to the TensorBoard we will see in a bit. The only function that we currently need to call is `tensorboard.logdir()`, which returns the path to the TensorBoard log directory. Furthermore, the content of this directory will be put in as a Dataset in your project's Experiments folder.\n",
    "\n",
    "The directory could in practice be used to store other data that should be accessible after the experiment is finished.\n",
    "```python\n",
    "# Use this module to get the TensorBoard logdir\n",
    "from hops import tensorboard\n",
    "tensorboard_logdir = tensorboard.logdir()\n",
    "```\n",
    "\n",
    "### Using the `hdfs` module\n",
    "The `hdfs` module provides a method to get the path in HopsFS where your data is stored, namely by calling `hdfs.project_path()`. The path resolves to the root path for your project, which is the view that you see when you click `Data Sets` in HopsWorks. To point where your actual data resides in the project you to append the full path from there to your Dataset. For example if you create a mnist folder in your Resources Dataset, the path to the mnist data would be `hdfs.project_path() + 'Resources/mnist'`\n",
    "\n",
    "```python\n",
    "# Use this module to get the path to your project in HopsFS, then append the path to your Dataset in your project\n",
    "from hops import hdfs\n",
    "project_path = hdfs.project_path()\n",
    "```\n",
    "\n",
    "```python\n",
    "# Downloading the mnist dataset to the current working directory\n",
    "from hops import hdfs\n",
    "mnist_hdfs_path = hdfs.project_path() + \"Resources/mnist\"\n",
    "local_mnist_path = hdfs.copy_to_local(mnist_hdfs_path)\n",
    "```\n",
    "\n",
    "### Documentation\n",
    "See the following links to learn more about running experiments in Hopsworks\n",
    "\n",
    "- <a href=\"https://hopsworks.readthedocs.io/en/latest/hopsml/experiment.html\">Learn more about experiments</a>\n",
    "<br>\n",
    "- <a href=\"https://hopsworks.readthedocs.io/en/latest/hopsml/hopsML.html\">Building End-To-End pipelines</a>\n",
    "<br>\n",
    "- Give us a star, create an issue or a feature request on  <a href=\"https://github.com/logicalclocks/hopsworks\">Hopsworks github</a>\n",
    "\n",
    "### Managing experiments\n",
    "Experiments service provides a unified view of all the experiments run using the `experiment` module.\n",
    "<br>\n",
    "As demonstrated in the gif it provides general information about the experiment and the resulting metric. Experiments can be visualized meanwhile or after training in a TensorBoard.\n",
    "<br>\n",
    "<br>\n",
    "![Image7-Monitor.png](../../images/experiments.gif)"
   ]
  },
  {
   "cell_type": "code",
   "execution_count": 15,
   "metadata": {},
   "outputs": [],
   "source": [
    "def keras_mnist():\n",
    "    \n",
    "    import os\n",
    "    import sys\n",
    "    import uuid\n",
    "    import random\n",
    "    \n",
    "    import numpy as np\n",
    "    \n",
    "    from tensorflow import keras\n",
    "    import tensorflow as tf\n",
    "    from tensorflow.keras.datasets import mnist\n",
    "    from tensorflow.keras.models import Sequential\n",
    "    from tensorflow.keras.layers import Dense, Dropout, Flatten\n",
    "    from tensorflow.keras.layers import Conv2D, MaxPooling2D\n",
    "    from tensorflow.keras.callbacks import TensorBoard\n",
    "    from tensorflow.keras import backend as K\n",
    "\n",
    "    import math\n",
    "    from hops import tensorboard\n",
    "\n",
    "    from hops import model as hops_model\n",
    "    from hops import hdfs\n",
    "    \n",
    "    batch_size = 8\n",
    "    num_classes = 10\n",
    "    epochs = 3\n",
    "    kernel = 4\n",
    "    pool = 4\n",
    "    dropout = 0.5\n",
    "#################################################################################\n",
    "#     # Input image dimensions\n",
    "#     img_rows, img_cols = 28, 28\n",
    "\n",
    "#     # The data, shuffled and split between train and test sets\n",
    "#     (x_train, y_train), (x_test, y_test) = mnist.load_data()\n",
    "\n",
    "#     if K.image_data_format() == 'channels_first':\n",
    "#         x_train = x_train.reshape(x_train.shape[0], 1, img_rows, img_cols)\n",
    "#         x_test = x_test.reshape(x_test.shape[0], 1, img_rows, img_cols)\n",
    "#         input_shape = (1, img_rows, img_cols)\n",
    "#     else:\n",
    "#         x_train = x_train.reshape(x_train.shape[0], img_rows, img_cols, 1)\n",
    "#         x_test = x_test.reshape(x_test.shape[0], img_rows, img_cols, 1)\n",
    "#         input_shape = (img_rows, img_cols, 1)\n",
    "\n",
    "#     x_train = x_train.astype('float32')\n",
    "#     x_test = x_test.astype('float32')\n",
    "#     x_train /= 255\n",
    "#     x_test /= 255\n",
    "#     print('x_train shape:', x_train.shape)\n",
    "#     print(x_train.shape[0], 'train samples')\n",
    "#     print(x_test.shape[0], 'test samples')\n",
    "\n",
    "#     # Convert class vectors to binary class matrices\n",
    "#     y_train = keras.utils.to_categorical(y_train, num_classes)\n",
    "#     y_test = keras.utils.to_categorical(y_test, num_classes)\n",
    "\n",
    "#     model = Sequential()\n",
    "#     model.add(Conv2D(32, kernel_size=(kernel, kernel),\n",
    "#                         activation='relu',\n",
    "#                          input_shape=input_shape))\n",
    "#     model.add(Conv2D(64, (kernel, kernel), activation='relu'))\n",
    "#     model.add(MaxPooling2D(pool_size=(pool, pool)))\n",
    "#     model.add(Dropout(dropout))\n",
    "#     model.add(Flatten())\n",
    "#      model.add(Dense(128, activation='relu'))\n",
    "\n",
    "#     model.add(Dropout(dropout))\n",
    "#     model.add(Dense(num_classes, activation='softmax'))\n",
    "\n",
    "#     opt = keras.optimizers.Adadelta(1.0)\n",
    "\n",
    "#     model.compile(loss=keras.losses.categorical_crossentropy,\n",
    "#                       optimizer=opt,\n",
    "#                       metrics=['accuracy'])\n",
    "\n",
    "\n",
    "#     tb_callback = TensorBoard(log_dir=tensorboard.logdir(), histogram_freq=0,\n",
    "#                              write_graph=True, write_images=True)\n",
    "#     callbacks = [tb_callback]\n",
    "\n",
    "#     model.fit(x_train, y_train,\n",
    "#              batch_size=batch_size,\n",
    "#              callbacks=callbacks,\n",
    "#              epochs=epochs,\n",
    "#              verbose=1,\n",
    "#              validation_data=(x_test, y_test))\n",
    "#     score = model.evaluate(x_test, y_test, verbose=0)\n",
    "\n",
    "\n",
    "    # Define input function\n",
    "    def input_fn():\n",
    "      x = np.random.random((1024, 10))\n",
    "      y = np.random.randint(2, size=(1024, 1))\n",
    "      x = tf.cast(x, tf.float32)\n",
    "      dataset = tf.data.Dataset.from_tensor_slices((x, y))\n",
    "      dataset = dataset.repeat(500)\n",
    "      dataset = dataset.batch(batch_size)\n",
    "      return dataset\n",
    "\n",
    "    # Define a Keras Model.\n",
    "    model = tf.keras.Sequential()\n",
    "    model.add(tf.keras.layers.Dense(16, activation='relu', input_shape=(10,)))\n",
    "    model.add(tf.keras.layers.Dense(1, activation='sigmoid'))\n",
    "\n",
    "    # Compile the model.\n",
    "    optimizer = tf.keras.optimizers.Adam(0.001) \n",
    "    # Compile the model.\n",
    "    model.compile(loss=tf.keras.losses.BinaryCrossentropy(),\n",
    "                  optimizer=tf.keras.optimizers.Adam(),\n",
    "                  metrics=['accuracy']\n",
    "                 )\n",
    "        \n",
    "    callbacks = [\n",
    "        tf.keras.callbacks.TensorBoard(log_dir=tensorboard.logdir()),\n",
    "        tf.keras.callbacks.ModelCheckpoint(filepath=tensorboard.logdir()),\n",
    "    ]\n",
    "    model.fit(input_fn(), \n",
    "        verbose=0,\n",
    "        epochs=3, \n",
    "        steps_per_epoch=5,\n",
    "        validation_data=input_fn(),\n",
    "        callbacks=callbacks\n",
    "    )\n",
    "    \n",
    "    score = model.evaluate(input_fn())\n",
    "\n",
    "    # Export model\n",
    "    # WARNING(break-tutorial-inline-code): The following code snippet is\n",
    "    # in-lined in tutorials, please update tutorial documents accordingly\n",
    "    # whenever code changes.\n",
    "\n",
    "    export_path = os.getcwd() + '/model-' + str(uuid.uuid4())\n",
    "    print('Exporting trained model to: {}'.format(export_path))\n",
    "    \n",
    "#     tf.keras.models.save_model(\n",
    "#         model,\n",
    "#         export_path,\n",
    "#         overwrite=True,\n",
    "#         include_optimizer=True,\n",
    "#         save_format=None,\n",
    "#         signatures=None,\n",
    "#         options=None\n",
    "#     )\n",
    "    \n",
    "    tf.saved_model.save(model, export_path)\n",
    "\n",
    "    print('Done exporting!')\n",
    "    \n",
    "    metrics = metrics={'accuracy': score[1]}\n",
    "    \n",
    "    hops_model.export(export_path, \"fakedataB\", metrics=metrics)    \n",
    "    \n",
    "    return metrics"
   ]
  },
  {
   "cell_type": "code",
   "execution_count": null,
   "metadata": {},
   "outputs": [],
   "source": [
    "from hops import experiment\n",
    "from hops import hdfs\n",
    "\n",
    "experiment.launch(keras_mnist, name='keras fake data', local_logdir=True, metric_key='accuracy')"
   ]
  },
  {
   "cell_type": "code",
   "execution_count": null,
   "metadata": {},
   "outputs": [],
   "source": []
  },
  {
   "cell_type": "markdown",
   "metadata": {},
   "source": [
    "# Check Model Repository for best model based on accuracy"
   ]
  },
  {
   "cell_type": "markdown",
   "metadata": {},
   "source": [
    "![Image7-Monitor.png](../../images/models.gif)"
   ]
  },
  {
   "cell_type": "markdown",
   "metadata": {},
   "source": [
    "# Query Model Repository for best mnist Model"
   ]
  },
  {
   "cell_type": "code",
   "execution_count": null,
   "metadata": {},
   "outputs": [],
   "source": [
    "from hops import model\n",
    "from hops.model import Metric\n",
    "MODEL_NAME=\"fakedataB\"\n",
    "EVALUATION_METRIC=\"accuracy\""
   ]
  },
  {
   "cell_type": "code",
   "execution_count": 2,
   "metadata": {},
   "outputs": [],
   "source": [
    "best_model = model.get_best_model(MODEL_NAME, EVALUATION_METRIC, Metric.MAX)"
   ]
  },
  {
   "cell_type": "code",
   "execution_count": 3,
   "metadata": {},
   "outputs": [
    {
     "name": "stdout",
     "output_type": "stream",
     "text": [
      "Model name: fakedata\n",
      "Model version: 1\n",
      "{'accuracy': '0.48828125'}"
     ]
    }
   ],
   "source": [
    "print('Model name: ' + best_model['name'])\n",
    "print('Model version: ' + str(best_model['version']))\n",
    "print(best_model['metrics'])"
   ]
  },
  {
   "cell_type": "markdown",
   "metadata": {},
   "source": [
    "# Create Model Serving of Exported Model"
   ]
  },
  {
   "cell_type": "code",
   "execution_count": 4,
   "metadata": {},
   "outputs": [],
   "source": [
    "from hops import serving"
   ]
  },
  {
   "cell_type": "code",
   "execution_count": 5,
   "metadata": {},
   "outputs": [
    {
     "name": "stdout",
     "output_type": "stream",
     "text": [
      "Creating a serving for model fakedata ...\n",
      "Serving for model fakedata successfully created"
     ]
    }
   ],
   "source": [
    "# Create serving\n",
    "model_path=\"/Models/\" + best_model['name']\n",
    "response = serving.create_or_update(model_path, MODEL_NAME, serving_type=\"TENSORFLOW\", \n",
    "                                 model_version=best_model['version'])"
   ]
  },
  {
   "cell_type": "code",
   "execution_count": 6,
   "metadata": {},
   "outputs": [
    {
     "name": "stdout",
     "output_type": "stream",
     "text": [
      "fakedata\n",
      "mnist"
     ]
    }
   ],
   "source": [
    "# List all available servings in the project\n",
    "for s in serving.get_all():\n",
    "    print(s.name)"
   ]
  },
  {
   "cell_type": "code",
   "execution_count": 7,
   "metadata": {},
   "outputs": [
    {
     "name": "stdout",
     "output_type": "stream",
     "text": [
      "'Running'"
     ]
    }
   ],
   "source": [
    "# Get serving status\n",
    "serving.get_status(MODEL_NAME)"
   ]
  },
  {
   "cell_type": "markdown",
   "metadata": {},
   "source": [
    "# Check Model Serving for active servings"
   ]
  },
  {
   "cell_type": "markdown",
   "metadata": {},
   "source": [
    "![Image7-Monitor.png](../../images/servings.gif)"
   ]
  },
  {
   "cell_type": "markdown",
   "metadata": {},
   "source": [
    "# Start Model Serving Server"
   ]
  },
  {
   "cell_type": "code",
   "execution_count": 8,
   "metadata": {},
   "outputs": [],
   "source": [
    "if serving.get_status(MODEL_NAME) == 'Stopped':\n",
    "    serving.start(MODEL_NAME)"
   ]
  },
  {
   "cell_type": "code",
   "execution_count": 9,
   "metadata": {},
   "outputs": [],
   "source": [
    "import time\n",
    "while serving.get_status(MODEL_NAME) != \"Running\":\n",
    "    time.sleep(5) # Let the serving startup correctly\n",
    "time.sleep(5)"
   ]
  },
  {
   "cell_type": "markdown",
   "metadata": {},
   "source": [
    "# Send Prediction Requests to the Served Model using Hopsworks REST API"
   ]
  },
  {
   "cell_type": "code",
   "execution_count": 10,
   "metadata": {},
   "outputs": [],
   "source": [
    "import numpy as np\n",
    "TOPIC_NAME = serving.get_kafka_topic(MODEL_NAME)\n",
    "NUM_FEATURES=1024"
   ]
  },
  {
   "cell_type": "code",
   "execution_count": 14,
   "metadata": {},
   "outputs": [
    {
     "name": "stderr",
     "output_type": "stream",
     "text": [
      "An error was encountered:\n",
      "Could not create or update serving (url: /hopsworks-api/api/project/128/inference/models/fakedata:predict), server response: \n",
      " HTTP code: 400, HTTP reason: Bad Request, error code: 250008, error msg: Serving instance bad request error, user msg: { \"error\": \"Matrix size-incompatible: In[0]: [1,1024], In[1]: [10,16]\\n\\t [[{{node sequential/dense/Relu}}]]\" }\n",
      "Traceback (most recent call last):\n",
      "  File \"/srv/hops/anaconda/envs/theenv/lib/python3.6/site-packages/hops/serving.py\", line 527, in make_inference_request\n",
      "    return _make_inference_request_rest(serving_name, data, verb)\n",
      "  File \"/srv/hops/anaconda/envs/theenv/lib/python3.6/site-packages/hops/serving.py\", line 562, in _make_inference_request_rest\n",
      "    error_code, error_msg, user_msg))\n",
      "hops.exceptions.RestAPIError: Could not create or update serving (url: /hopsworks-api/api/project/128/inference/models/fakedata:predict), server response: \n",
      " HTTP code: 400, HTTP reason: Bad Request, error code: 250008, error msg: Serving instance bad request error, user msg: { \"error\": \"Matrix size-incompatible: In[0]: [1,1024], In[1]: [10,16]\\n\\t [[{{node sequential/dense/Relu}}]]\" }\n",
      "\n"
     ]
    }
   ],
   "source": [
    "for i in range(20):\n",
    "    data = {\n",
    "                \"signature_name\": \"serving_default\", \"instances\": [np.random.rand(NUM_FEATURES).tolist()]\n",
    "            }\n",
    "    response = serving.make_inference_request(MODEL_NAME, data)\n",
    "    print(response)"
   ]
  },
  {
   "cell_type": "code",
   "execution_count": null,
   "metadata": {},
   "outputs": [],
   "source": []
  }
 ],
 "metadata": {
  "kernelspec": {
   "display_name": "PySpark",
   "language": "python",
   "name": "pysparkkernel"
  },
  "language_info": {
   "codemirror_mode": {
    "name": "python",
    "version": 3
   },
   "mimetype": "text/x-python",
   "name": "pyspark",
   "pygments_lexer": "python3"
  }
 },
 "nbformat": 4,
 "nbformat_minor": 4
}