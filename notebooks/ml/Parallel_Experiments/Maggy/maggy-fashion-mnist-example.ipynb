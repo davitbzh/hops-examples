{
 "cells": [
  {
   "cell_type": "markdown",
   "metadata": {},
   "source": [
    "## maggy - MNIST Example\n",
    "---\n",
    "Updated: 27/04/2020"
   ]
  },
  {
   "cell_type": "markdown",
   "metadata": {},
   "source": [
    "This notebook illustrates the usage of the maggy framework for asynchronous hyperparameter optimization on the fashion MNIST dataset.  \n",
    "\n",
    "In this specific example we are using random search over three parameters and we are deploying the median early stopping rule in order to make use of the asynchrony of the framework. The Median Stopping Rule implements the simple strategy of stopping a trial if its performance falls below the median of other trials at similar points in time.\n",
    "\n",
    "We are using Keras for this example to build the model.\n",
    "\n",
    "This notebook has been tested with TensorFlow 2.2.0 and Hopsworks 1.3.\n",
    "Requires Python 3.6 or higher."
   ]
  },
  {
   "cell_type": "markdown",
   "metadata": {},
   "source": [
    "### 1. Spark Session"
   ]
  },
  {
   "cell_type": "markdown",
   "metadata": {},
   "source": [
    "Make sure you have a running Spark Session/Context available. On Hopsworks just execute a simple command to start the spark application."
   ]
  },
  {
   "cell_type": "code",
   "execution_count": 1,
   "metadata": {},
   "outputs": [
    {
     "name": "stdout",
     "output_type": "stream",
     "text": [
      "Starting Spark application\n"
     ]
    },
    {
     "data": {
      "text/html": [
       "<table>\n",
       "<tr><th>ID</th><th>YARN Application ID</th><th>Kind</th><th>State</th><th>Spark UI</th><th>Driver log</th></tr><tr><td>70</td><td>application_1594231828166_0157</td><td>pyspark</td><td>idle</td><td><a target=\"_blank\" href=\"http://resourcemanager.service.consul:8088/proxy/application_1594231828166_0157/\">Link</a></td><td><a target=\"_blank\" href=\"http://sn021.dli.zenuity.com:8042/node/containerlogs/container_e08_1594231828166_0157_01_000001/demo__davit000\">Link</a></td></tr></table>"
      ],
      "text/plain": [
       "<IPython.core.display.HTML object>"
      ]
     },
     "metadata": {},
     "output_type": "display_data"
    },
    {
     "name": "stdout",
     "output_type": "stream",
     "text": [
      "SparkSession available as 'spark'.\n",
      "Hello World!"
     ]
    }
   ],
   "source": [
    "print(\"Hello World!\")"
   ]
  },
  {
   "cell_type": "markdown",
   "metadata": {},
   "source": [
    "### 2. Searchspace definition\n",
    "\n"
   ]
  },
  {
   "cell_type": "markdown",
   "metadata": {},
   "source": [
    "We want to conduct random search for the MNIST example on three hyperparameters: Kernel size, pooling size and dropout rate. Hence, we have two continuous integer valued parameters and one double valued parameter."
   ]
  },
  {
   "cell_type": "code",
   "execution_count": 2,
   "metadata": {},
   "outputs": [
    {
     "name": "stdout",
     "output_type": "stream",
     "text": [
      "Hyperparameter added: kernel\n",
      "Hyperparameter added: pool\n",
      "Hyperparameter added: dropout"
     ]
    }
   ],
   "source": [
    "from maggy import Searchspace\n",
    "\n",
    "# The searchspace can be instantiated with parameters\n",
    "sp = Searchspace(kernel=('INTEGER', [2, 8]), pool=('INTEGER', [2, 8]))\n",
    "\n",
    "# Or additional parameters can be added one by one\n",
    "sp.add('dropout', ('DOUBLE', [0.01, 0.99]))"
   ]
  },
  {
   "cell_type": "markdown",
   "metadata": {},
   "source": [
    "### 3. Model training definition\n",
    "\n",
    "The programming model is that you wrap the code containing the model training inside a wrapper function. Inside that wrapper function provide all imports and parts that make up your experiment.\n",
    "\n",
    "There are several requirements for this wrapper function:\n",
    "\n",
    "1. The function should take the hyperparameters as arguments, plus one additional parameter `reporter` which is needed for reporting the current metric to the experiment driver.\n",
    "2. The function should return the metric that you want to optimize for. This should coincide with the metric being reported in the Keras callback (see next point).\n",
    "3. In order to leverage on the early stopping capabilities of maggy, you need to make use of the maggy reporter API. By including the reporter in your training loop, you are telling maggy which metric to report back to the experiment driver for optimization and to check for early stopping. It is as easy as adding `reporter.broadcast(metric=YOUR_METRIC)` for example at the end of your epoch or batch training step and adding a `reporter` argument to your function signature. If you are not writing your own training loop you can use the pre-written Keras callbacks:\n",
    "    - KerasBatchEnd\n",
    "    - KerasEpochEnd  \n",
    "(Please see documentation for a detailed explanation.)\n",
    "\n",
    "We are going to use the `KerasBatchEnd` callback to report back the accuracy after each batch. However, note that in the BatchEnd callback we have only access to training accuracy since validation after each batch would be too expensive.\n"
   ]
  },
  {
   "cell_type": "code",
   "execution_count": 3,
   "metadata": {},
   "outputs": [],
   "source": [
    "from maggy import experiment\n",
    "from maggy.callbacks import KerasBatchEnd"
   ]
  },
  {
   "cell_type": "markdown",
   "metadata": {},
   "source": [
    "Definition of the training wrapper function:\n",
    "(maggy specific parts are highlighted with comments and correspond to the three points described above.)"
   ]
  },
  {
   "cell_type": "code",
   "execution_count": 8,
   "metadata": {},
   "outputs": [],
   "source": [
    "#########\n",
    "### maggy: hyperparameters as arguments and including the reporter\n",
    "#########\n",
    "def training_function(kernel, pool, dropout, reporter):\n",
    "    import tensorflow as tf\n",
    "    from tensorflow import keras\n",
    "    from tensorflow.keras.models import Sequential\n",
    "    from tensorflow.keras.layers import Dense, Dropout, Flatten, Conv2D, MaxPooling2D\n",
    "    from tensorflow.keras.callbacks import TensorBoard\n",
    "    \n",
    "    from maggy import tensorboard\n",
    "    from hops import hdfs\n",
    "\n",
    "    log_dir = tensorboard.logdir()\n",
    "    batch_size = 512\n",
    "    num_classes = 10\n",
    "    epochs = 10\n",
    "\n",
    "    # Input image dimensions\n",
    "    img_rows, img_cols = 28, 28\n",
    "    \n",
    "    train_filenames = [hdfs.project_path() + \"TourData/mnist/train/train.tfrecords\"]\n",
    "    validation_filenames = [hdfs.project_path() + \"TourData/mnist/validation/validation.tfrecords\"]\n",
    "    \n",
    "    # Create an iterator over the dataset\n",
    "    def data_input(filenames, batch_size=128, shuffle=False, repeat=None):\n",
    "\n",
    "        def parser(serialized_example):\n",
    "            \"\"\"Parses a single tf.Example into image and label tensors.\"\"\"\n",
    "            features = tf.io.parse_single_example(\n",
    "                serialized_example,\n",
    "                features={\n",
    "                    'image_raw': tf.io.FixedLenFeature([], tf.string),\n",
    "                    'label': tf.io.FixedLenFeature([], tf.int64),\n",
    "                })\n",
    "            image = tf.io.decode_raw(features['image_raw'], tf.uint8)\n",
    "            image.set_shape([28 * 28])\n",
    "\n",
    "            # Normalize the values of the image from the range [0, 255] to [-0.5, 0.5]\n",
    "            image = tf.cast(image, tf.float32) / 255 - 0.5\n",
    "            label = tf.cast(features['label'], tf.int32)\n",
    "            # Reshape the tensor\n",
    "            image = tf.reshape(image, [img_rows, img_cols, 1])\n",
    "    \n",
    "            # Create a one hot array for your labels\n",
    "            label = tf.one_hot(label, num_classes)\n",
    "            \n",
    "            return image, label\n",
    "\n",
    "        # Import MNIST data\n",
    "        dataset = tf.data.TFRecordDataset(filenames)\n",
    "        num_samples = sum(1 for _ in dataset)\n",
    "\n",
    "        # Map the parser over dataset, and batch results by up to batch_size\n",
    "        dataset = dataset.map(parser)\n",
    "        if shuffle:\n",
    "            dataset = dataset.shuffle(buffer_size=128)\n",
    "        dataset = dataset.batch(batch_size)\n",
    "        dataset = dataset.repeat(repeat)\n",
    "        return dataset, num_samples\n",
    "    \n",
    "    input_shape = (28, 28, 1)\n",
    "\n",
    "    model = Sequential()\n",
    "    model.add(Conv2D(32, kernel_size=(kernel, kernel),\n",
    "                     activation='relu',\n",
    "                     input_shape=input_shape))\n",
    "    model.add(Conv2D(64, (kernel, kernel), activation='relu'))\n",
    "    model.add(MaxPooling2D(pool_size=(pool, pool)))\n",
    "    model.add(Dropout(dropout))\n",
    "    model.add(Flatten())\n",
    "    model.add(Dense(128, activation='relu'))\n",
    "    model.add(Dropout(dropout))\n",
    "    model.add(Dense(num_classes, activation='softmax'))\n",
    "\n",
    "    opt = keras.optimizers.Adadelta(1.0)\n",
    "\n",
    "    model.compile(loss=keras.losses.categorical_crossentropy,\n",
    "                  optimizer=opt,\n",
    "                  metrics=['accuracy'])\n",
    "    \n",
    "    # Setup TensorBoard\n",
    "    tb_callback = TensorBoard(        \n",
    "        log_dir,\n",
    "        update_freq='batch',\n",
    "        profile_batch=0,  # workaround for issue #2084\n",
    "    )\n",
    "    \n",
    "    #########\n",
    "    ### maggy: REPORTER API through keras callback\n",
    "    #########\n",
    "    callbacks = [KerasBatchEnd(reporter, metric='accuracy'), tb_callback]\n",
    "    \n",
    "    # Initialize the datasets\n",
    "    train_input, num_train = data_input(train_filenames[0], batch_size=batch_size)\n",
    "    eval_input, num_val = data_input(validation_filenames[0], batch_size=batch_size)\n",
    "\n",
    "    model.fit(train_input,\n",
    "              steps_per_epoch = num_train//batch_size,\n",
    "              callbacks=callbacks, # add callback\n",
    "              epochs=epochs,\n",
    "              verbose=1,\n",
    "              validation_data=eval_input,\n",
    "              validation_steps=num_val//batch_size)\n",
    "    \n",
    "    score = model.evaluate(eval_input, steps=num_val//batch_size, verbose=1)\n",
    "    \n",
    "    # Using print in the wrapper function will print underneath the Jupyter Cell with a \n",
    "    # prefix to indicate which prints come from the same executor\n",
    "    \n",
    "    print('Test loss:', score[0])\n",
    "    print('Test accuracy:', score[1])\n",
    "    \n",
    "    #########\n",
    "    ### maggy: return the metric to be optimized, test accuracy in this case\n",
    "    #########\n",
    "    return score[1]"
   ]
  },
  {
   "cell_type": "markdown",
   "metadata": {},
   "source": [
    "### 4. Launching the experiment\n",
    "\n",
    "Finally, we are ready to launch the maggy experiment.\n",
    "There are a variety of parameters to specify, some of which are optional:\n",
    "1. `map_fun`: your previously specified training wrapper function\n",
    "2. `searchspace`: the searchspace object\n",
    "3. `optimizer`: the optimization algorithm to be used (only 'randomsearch' available at the moment)\n",
    "4. `direction`: maximize or minimize the specified metric\n",
    "5. `num_trials`: number of different parameter combinations to be evaluated\n",
    "6. `name`: an experiment name\n",
    "7. `hb_interval`: Time in seconds between the heartbeat messages with the metric to the experiment driver. A sensible value is not much smaller than the frequency in which your training loop updates the metric. So using the KerasBatchEnd reporter callback, it does not make sense having a much smaller interval than the amount of time a batch takes to be processed.\n",
    "8. `es_interval`: Interval in seconds, specifying how often the currently running trials should be checked for early stopping. Should be bigger than the `hb_interval`.\n",
    "9. `es_min`: Minimum number of trials to be finished before starting to check for early stopping. For example, the median stopping rule implements the simple strategy of stopping a trial if its performance falls below the median of finished trials at similar points in time. We only want to start comparing to the median once there are several trials finished."
   ]
  },
  {
   "cell_type": "code",
   "execution_count": 9,
   "metadata": {},
   "outputs": [
    {
     "data": {
      "application/vnd.jupyter.widget-view+json": {
       "model_id": "6a438155ad39454a9380fe93ae7f12ae",
       "version_major": 2,
       "version_minor": 0
      },
      "text/plain": [
       "HBox(children=(FloatProgress(value=0.0, description='Maggy experiment', max=15.0, style=ProgressStyle(descript…"
      ]
     },
     "metadata": {},
     "output_type": "display_data"
    },
    {
     "name": "stdout",
     "output_type": "stream",
     "text": [
      "0: Epoch 1/10\n",
      "0: \n",
      "0: \n",
      "0: \n",
      "0: \n",
      "0: Epoch 2/10\n",
      "0: Epoch 3/10\n",
      "0: Epoch 4/10\n",
      "0: Epoch 5/10\n",
      "0: Epoch 6/10\n",
      "0: Epoch 7/10\n",
      "0: Epoch 8/10\n",
      "0: Epoch 9/10\n",
      "0: Epoch 10/10\n",
      "0: Test loss: 0.3839288353919983\n",
      "0: Test accuracy: 0.8585069179534912\n",
      "0: Epoch 1/10\n",
      "0: Epoch 2/10\n",
      "0: Epoch 3/10\n",
      "0: Epoch 4/10\n",
      "0: Epoch 5/10\n",
      "0: Epoch 6/10\n",
      "0: Epoch 7/10\n",
      "0: Epoch 8/10\n",
      "0: Epoch 9/10\n",
      "0: Epoch 10/10\n",
      "0: Test loss: 0.35082095861434937\n",
      "0: Test accuracy: 0.8669704794883728\n",
      "0: Epoch 1/10\n",
      "0: Epoch 2/10\n",
      "0: Epoch 3/10\n",
      "0: Epoch 4/10\n",
      "0: Epoch 5/10\n",
      "0: Epoch 6/10\n",
      "0: Epoch 7/10\n",
      "0: Epoch 8/10\n",
      "0: Epoch 9/10\n",
      "0: Epoch 10/10\n",
      "0: Test loss: 1.6520566940307617\n",
      "0: Test accuracy: 0.5049912929534912\n",
      "0: Epoch 1/10\n",
      "0: Epoch 2/10\n",
      "0: Epoch 3/10\n",
      "0: Epoch 4/10\n",
      "0: Epoch 5/10\n",
      "0: Epoch 6/10\n",
      "0: Epoch 7/10\n",
      "0: Epoch 8/10\n",
      "0: Epoch 9/10\n",
      "0: Epoch 10/10\n",
      "0: Test loss: 0.2847115993499756\n",
      "0: Test accuracy: 0.8956162929534912\n",
      "0: Epoch 1/10\n",
      "0: Epoch 2/10\n",
      "0: Epoch 3/10\n",
      "0: Epoch 4/10\n",
      "0: Epoch 5/10\n",
      "0: Epoch 6/10\n",
      "0: Epoch 7/10\n",
      "0: Epoch 8/10\n",
      "0: Epoch 9/10\n",
      "0: Epoch 10/10\n",
      "0: Test loss: 0.2887480854988098\n",
      "0: Test accuracy: 0.8914930820465088\n",
      "0: Epoch 1/10\n",
      "0: Epoch 2/10\n",
      "0: Epoch 3/10\n",
      "0: Epoch 4/10\n",
      "0: Epoch 5/10\n",
      "0: Epoch 6/10\n",
      "0: Epoch 7/10\n",
      "0: Epoch 8/10\n",
      "0: Epoch 9/10\n",
      "0: Epoch 10/10\n",
      "0: Test loss: 0.35841038823127747\n",
      "0: Test accuracy: 0.8643662929534912\n",
      "0: Epoch 1/10\n",
      "0: Epoch 2/10\n",
      "0: Epoch 3/10\n",
      "0: Epoch 4/10\n",
      "0: Epoch 5/10\n",
      "0: Epoch 6/10\n",
      "0: Epoch 7/10\n",
      "0: Epoch 8/10\n",
      "0: Epoch 9/10\n",
      "0: Epoch 10/10\n",
      "0: Test loss: 0.258556067943573\n",
      "0: Test accuracy: 0.9055989384651184\n",
      "0: Epoch 1/10\n",
      "0: Epoch 2/10\n",
      "0: Epoch 1/10\n",
      "0: Epoch 2/10\n",
      "0: Epoch 3/10\n",
      "0: Epoch 4/10\n",
      "0: Epoch 5/10\n",
      "0: Epoch 6/10\n",
      "0: Epoch 7/10\n",
      "0: Epoch 8/10\n",
      "0: Epoch 9/10\n",
      "0: Epoch 10/10\n",
      "0: Test loss: 0.24740640819072723\n",
      "0: Test accuracy: 0.9088541865348816\n",
      "0: Epoch 1/10\n",
      "0: Epoch 2/10\n",
      "0: Epoch 1/10\n",
      "0: Epoch 2/10\n",
      "0: Epoch 1/10\n",
      "0: Epoch 2/10\n",
      "0: Epoch 1/10\n",
      "0: Epoch 2/10\n",
      "0: Epoch 3/10\n",
      "0: Epoch 4/10\n",
      "0: Epoch 5/10\n",
      "0: Epoch 6/10\n",
      "0: Epoch 7/10\n",
      "0: Epoch 8/10\n",
      "0: Epoch 9/10\n",
      "0: Epoch 10/10\n",
      "0: Test loss: 0.30597394704818726\n",
      "0: Test accuracy: 0.8871527910232544\n",
      "0: Epoch 1/10\n",
      "0: Epoch 2/10\n",
      "0: Epoch 3/10\n",
      "0: Epoch 4/10\n",
      "0: Epoch 5/10\n",
      "0: Epoch 6/10\n",
      "0: Epoch 7/10\n",
      "0: Epoch 8/10\n",
      "0: Epoch 9/10\n",
      "0: Epoch 10/10\n",
      "0: Test loss: 0.28581172227859497\n",
      "0: Test accuracy: 0.8962673544883728\n",
      "0: Epoch 1/10\n",
      "0: Epoch 2/10\n"
     ]
    },
    {
     "name": "stderr",
     "output_type": "stream",
     "text": [
      "An error was encountered:\n",
      "Could not create experiment (url: /hopsworks-api/api/project/128/experiments/application_1594231828166_0157_3?xattr=REPLACE), server response: \n",
      " HTTP code: 401, HTTP reason: Unauthorized, error code: 200003, error msg: The Token has expired on Tue Jul 14 20:31:14 CEST 2020., user msg: \n",
      "Traceback (most recent call last):\n",
      "  File \"/srv/hops/anaconda/envs/theenv/lib/python3.6/site-packages/maggy/experiment.py\", line 239, in lagom\n",
      "    optimization_key,\n",
      "  File \"/srv/hops/anaconda/envs/theenv/lib/python3.6/site-packages/maggy/util.py\", line 121, in _finalize_experiment\n",
      "    app_id, run_id, experiment_json, \"REPLACE\"\n",
      "  File \"/srv/hops/anaconda/envs/theenv/lib/python3.6/site-packages/hops/experiment_impl/util/experiment_utils.py\", line 455, in _attach_experiment_xattr\n",
      "    resource_url, response.status_code, response.reason, error_code, error_msg, user_msg))\n",
      "hops.exceptions.RestAPIError: Could not create experiment (url: /hopsworks-api/api/project/128/experiments/application_1594231828166_0157_3?xattr=REPLACE), server response: \n",
      " HTTP code: 401, HTTP reason: Unauthorized, error code: 200003, error msg: The Token has expired on Tue Jul 14 20:31:14 CEST 2020., user msg: \n",
      "\n"
     ]
    },
    {
     "name": "stdout",
     "output_type": "stream",
     "text": [
      "\n"
     ]
    }
   ],
   "source": [
    "result = experiment.lagom(map_fun=training_function, \n",
    "                           searchspace=sp, \n",
    "                           optimizer='randomsearch', \n",
    "                           direction='max',\n",
    "                           num_trials=15, \n",
    "                           name='MNIST', \n",
    "                           hb_interval=5, \n",
    "                           es_interval=5,\n",
    "                           es_min=5\n",
    "                          )"
   ]
  },
  {
   "cell_type": "markdown",
   "metadata": {},
   "source": [
    "To observe the learning curves of trials, start TensorBoard from the Experiments Service in Hopsworks."
   ]
  }
 ],
 "metadata": {
  "kernelspec": {
   "display_name": "PySpark",
   "language": "python",
   "name": "pysparkkernel"
  },
  "language_info": {
   "codemirror_mode": {
    "name": "python",
    "version": 3
   },
   "mimetype": "text/x-python",
   "name": "pyspark",
   "pygments_lexer": "python3"
  }
 },
 "nbformat": 4,
 "nbformat_minor": 4
}