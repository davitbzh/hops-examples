{
 "cells": [
  {
   "cell_type": "markdown",
   "metadata": {},
   "source": [
    "# Time travel operations in Hopsworks Feature Store\n",
    "\n",
    "In this notebook we will introduce time travel operations in Hopsworks Feature Store (HSFS). Currently HSFS supports Apache Hudi (http://hudi.apache.org/) a storage abstraction/library for doing **incremental** data ingestion to a Hopsworks Feature Store."
   ]
  },
  {
   "cell_type": "markdown",
   "metadata": {},
   "source": [
    "## Background"
   ]
  },
  {
   "cell_type": "markdown",
   "metadata": {},
   "source": [
    "### Motivation\n",
    "\n",
    "Traditional ETL typically involves taking a snapshot of a production database and doing a full load into a data lake (typically stored on a distributed file system). Using the snapshot approach for ETL is simple since the snapshot is immutable and can be loaded as an atomic unit into the data lake. However, the con of taking this approach to doing data ingestion is that it is *slow*. Even if just a single record have been updated since the last data ingestion, the entire table has to be re-written. If you are working with Big Data (TB or PB size datasets) then this will introduce significant *data latency* and *wasted resources* (majority of the writes when ingesting the snapshot is redundant as most of the records have not been updated since the last ETL step). \n",
    "\n",
    "This motivates the use-case for **incremental** data ingestion. Incremental data ingestion means that only deltas/changelogs since the last ingestion are inserted. With incremental processing, you process data in *mini-batches* and run the spark job frequently. The incremental model makes better use of resources and makes it easier to do complex processing and joins.\n",
    "\n",
    "In addition data is rarely immutable in practice. A bank transaction might be reverted, a customer might change his or her home adress, and a customer review might be updated, to give a few examples. This is where Hudi comes into the picture. Hudi stands for `Hadoop Upserts anD Incrementals` and brings two new primitives for data engineering on distributed file systems (in addition to append/read):\n",
    "\n",
    "- `Upsert`: the ability to do insertions (appends) and updates efficiently. \n",
    "- `Incremental reads`: the ability to read datasets incrementally using the notion of \"commits\"."
   ]
  },
  {
   "cell_type": "markdown",
   "metadata": {},
   "source": [
    "### Importing necessary libraries "
   ]
  },
  {
   "cell_type": "code",
   "execution_count": 1,
   "metadata": {},
   "outputs": [
    {
     "name": "stdout",
     "output_type": "stream",
     "text": [
      "Starting Spark application\n"
     ]
    },
    {
     "data": {
      "text/html": [
       "<table>\n",
       "<tr><th>ID</th><th>YARN Application ID</th><th>Kind</th><th>State</th><th>Spark UI</th><th>Driver log</th></tr><tr><td>17</td><td>application_1624399475793_0002</td><td>pyspark</td><td>idle</td><td><a target=\"_blank\" href=\"/hopsworks-api/yarnui/https://hopsworks0.logicalclocks.com:8089/proxy/application_1624399475793_0002/\">Link</a></td><td><a target=\"_blank\" href=\"/hopsworks-api/yarnui/https://hopsworks0.logicalclocks.com:8044/node/containerlogs/container_e01_1624399475793_0002_01_000001/click_stream__meb10000\">Link</a></td></tr></table>"
      ],
      "text/plain": [
       "<IPython.core.display.HTML object>"
      ]
     },
     "metadata": {},
     "output_type": "display_data"
    },
    {
     "name": "stdout",
     "output_type": "stream",
     "text": [
      "SparkSession available as 'spark'.\n",
      "Connected. Call `.close()` to terminate connection gracefully."
     ]
    }
   ],
   "source": [
    "import hsfs\n",
    "import datetime\n",
    "from pyspark.sql import DataFrame, Row\n",
    "from pyspark.sql.types import *\n",
    "from pyspark.sql.functions import unix_timestamp, from_unixtime\n",
    "\n",
    "connection = hsfs.connection()\n",
    "# get a reference to the feature store, you can access also shared feature stores by providing the feature store name\n",
    "fs = connection.get_feature_store();"
   ]
  },
  {
   "cell_type": "code",
   "execution_count": 2,
   "metadata": {},
   "outputs": [],
   "source": [
    "prodocut_views_schema = StructType([\n",
    "  StructField(\"event_timestamp\", LongType(), True),\n",
    "  StructField(\"event_time\", StringType(), True),\n",
    "  StructField(\"hour\", StringType(), True),\n",
    "  StructField(\"user_id\", LongType(), True), \n",
    "  StructField(\"user_session\", StringType(), True),      \n",
    "  StructField(\"event_type\", StringType(), True),     \n",
    "  StructField(\"product_id\", LongType(), True)])\n",
    "\n",
    "producs_schema = StructType([\n",
    "  StructField(\"product_id\", IntegerType(), True),\n",
    "  StructField(\"category\", StringType(), True),\n",
    "  StructField(\"sub_category\", StringType(), True),   \n",
    "  StructField(\"brand\", StringType(), True),\n",
    "  StructField(\"price\", FloatType(), True)    \n",
    "])"
   ]
  },
  {
   "cell_type": "markdown",
   "metadata": {},
   "source": [
    "### Create spark dataframes for each Feature groups"
   ]
  },
  {
   "cell_type": "code",
   "execution_count": 3,
   "metadata": {},
   "outputs": [
    {
     "name": "stdout",
     "output_type": "stream",
     "text": [
      "+---------------+-------------------+-------------+---------+--------------------+----------+----------+\n",
      "|event_timestamp|         event_time|         hour|  user_id|        user_session|event_type|product_id|\n",
      "+---------------+-------------------+-------------+---------+--------------------+----------+----------+\n",
      "|     1624397734|2021-06-22 23:35:34|2021-06-22-23|535871217|c6bd7419-2748-4c5...|      view|   1000001|\n",
      "|     1624398017|2021-06-22 23:40:17|2021-06-22-23|535871217|c6bd7419-2748-4c5...|      view|   1000006|\n",
      "|     1624398346|2021-06-22 23:45:46|2021-06-22-23|524325294|0b74a829-f9d7-465...|      view|   1000001|\n",
      "|     1624398650|2021-06-22 23:50:50|2021-06-22-23|524325294|0b74a829-f9d7-465...|      view|   1000001|\n",
      "|     1624398900|2021-06-22 23:55:00|2021-06-22-23|535871218|2b1311db-31c8-498...|      view|   1000003|\n",
      "+---------------+-------------------+-------------+---------+--------------------+----------+----------+"
     ]
    }
   ],
   "source": [
    "prodocut_views_insert = [\n",
    "    Row(1624397734,\"2021-06-22 23:35:34\", \"2021-06-22-23\", 535871217, \"c6bd7419-2748-4c56-95b4-8cec9ff8b80d\", \"view\", 1000001),\n",
    "    Row(1624398017,\"2021-06-22 23:40:17\", \"2021-06-22-23\", 535871217, \"c6bd7419-2748-4c56-95b4-8cec9ff8b80d\", \"view\", 1000006),\n",
    "    Row(1624398346,\"2021-06-22 23:45:46\", \"2021-06-22-23\", 524325294, \"0b74a829-f9d7-4654-b5b0-35bc9822c238\", \"view\", 1000001),\n",
    "    Row(1624398650,\"2021-06-22 23:50:50\", \"2021-06-22-23\", 524325294, \"0b74a829-f9d7-4654-b5b0-35bc9822c238\", \"view\", 1000001),\n",
    "    Row(1624398900,\"2021-06-22 23:55:00\", \"2021-06-22-23\", 535871218, \"2b1311db-31c8-498b-b5f1-6f9a107580b5\", \"view\", 1000003)\n",
    "]\n",
    "\n",
    "prodocut_views_insert_df = spark.createDataFrame(prodocut_views_insert, prodocut_views_schema)\n",
    "prodocut_views_insert_df.show()"
   ]
  },
  {
   "cell_type": "code",
   "execution_count": 4,
   "metadata": {},
   "outputs": [
    {
     "name": "stdout",
     "output_type": "stream",
     "text": [
      "+----------+-----------+------------+-------+--------+\n",
      "|product_id|   category|sub_category|  brand|   price|\n",
      "+----------+-----------+------------+-------+--------+\n",
      "|   1000001|electronics|  smartphone|  apple|10081.98|\n",
      "|   1000002|electronics|      tablet|  apple| 2642.17|\n",
      "|   1000003|electronics|   earphones|  apple|  747.79|\n",
      "|   1000004|electronics|   earphones|samsung|  614.53|\n",
      "|   1000005|electronics|          TV|samsung|12347.83|\n",
      "|   1000006|electronics|  smartphone|samsung| 7632.76|\n",
      "|   1000007|electronics|          TV|   sony|11234.21|\n",
      "|   1000008|electronics|   earphones|   sony|  398.67|\n",
      "+----------+-----------+------------+-------+--------+"
     ]
    }
   ],
   "source": [
    "prodocuts_data = [\n",
    "    Row(1000001, \"electronics\", \"smartphone\", \"apple\", 10081.98),\n",
    "    Row(1000002, \"electronics\", \"tablet\", \"apple\", 2642.17),\n",
    "    Row(1000003, \"electronics\", \"earphones\", \"apple\", 747.79),\n",
    "    Row(1000004, \"electronics\", \"earphones\", \"samsung\", 614.53),\n",
    "    Row(1000005, \"electronics\", \"TV\", \"samsung\", 12347.83),\n",
    "    Row(1000006, \"electronics\", \"smartphone\", \"samsung\", 7632.76),\n",
    "    Row(1000007, \"electronics\", \"TV\", \"sony\", 11234.21),\n",
    "    Row(1000008, \"electronics\", \"earphones\", \"sony\", 398.67)\n",
    "]\n",
    "\n",
    "\n",
    "prodocuts_insert_df = spark.createDataFrame(prodocuts_data, producs_schema)\n",
    "prodocuts_insert_df.show()"
   ]
  },
  {
   "cell_type": "markdown",
   "metadata": {},
   "source": [
    "### Create feature groups \n",
    "\n",
    "Now We will create each feature group and enable time travel format `HUDI`. In Hopsworks Feature Store `primary` and `partition` keys are required to be privided for HUDI enabled feature groups."
   ]
  },
  {
   "cell_type": "code",
   "execution_count": 5,
   "metadata": {},
   "outputs": [],
   "source": [
    "prodocut_views_fg = fs.create_feature_group(\n",
    "    name = \"prodocut_views\", \n",
    "    description = \"E-commerce product views Feature Group\",\n",
    "    version=1,\n",
    "    primary_key = [\"user_id\", \"event_timestamp\"], \n",
    "    partition_key = [\"hour\"], \n",
    "    hudi_precombine_key = \"user_session\", \n",
    "    time_travel_format = \"HUDI\",\n",
    "    online_enabled=True\n",
    ")"
   ]
  },
  {
   "cell_type": "code",
   "execution_count": 6,
   "metadata": {},
   "outputs": [],
   "source": [
    "prodocuts_fg = fs.create_feature_group(\n",
    "    name = \"prodocuts_fg\",\n",
    "    description = \"E-commerce producs Feature Group\",\n",
    "    version = 1,\n",
    "    primary_key = [\"product_id\"],\n",
    "    time_travel_format=\"HUDI\",\n",
    "    online_enabled=True    \n",
    ")"
   ]
  },
  {
   "cell_type": "markdown",
   "metadata": {},
   "source": [
    "### Define user provided hudi options \n",
    "By default, Hudi tends to over-partition input. Recommended shuffle parallelism for `hoodie.[insert|upsert|bulkinsert].shuffle.parallelism` is atleast input_data_size/500MB"
   ]
  },
  {
   "cell_type": "code",
   "execution_count": 7,
   "metadata": {},
   "outputs": [],
   "source": [
    "extra_hudi_options = {\n",
    "    \"hoodie.bulkinsert.shuffle.parallelism\":\"1\", \n",
    "    \"hoodie.insert.shuffle.parallelism\":\"1\", \n",
    "    \"hoodie.upsert.shuffle.parallelism\":\"1\",\n",
    "    \"hoodie.parquet.compression.ratio\":\"0.5\"\n",
    "} "
   ]
  },
  {
   "cell_type": "markdown",
   "metadata": {},
   "source": [
    "### Bulk insert data into the feature group\n",
    "Since we have not yet saved any data into newly created feature groups we will use Apache hudi terminology and `Bulk Insert` data. In HSFS its just issuing `save` method.  "
   ]
  },
  {
   "cell_type": "code",
   "execution_count": 8,
   "metadata": {},
   "outputs": [
    {
     "name": "stdout",
     "output_type": "stream",
     "text": [
      "<hsfs.feature_group.FeatureGroup object at 0x7f8384701850>"
     ]
    }
   ],
   "source": [
    "prodocuts_fg.save(prodocuts_insert_df,write_options=extra_hudi_options)"
   ]
  },
  {
   "cell_type": "code",
   "execution_count": 9,
   "metadata": {},
   "outputs": [
    {
     "name": "stdout",
     "output_type": "stream",
     "text": [
      "<hsfs.feature_group.FeatureGroup object at 0x7f8384701990>"
     ]
    }
   ],
   "source": [
    "prodocut_views_fg.save(prodocut_views_insert_df,write_options=extra_hudi_options)"
   ]
  },
  {
   "cell_type": "markdown",
   "metadata": {},
   "source": [
    "#### Hopsworks Feature Store Commits\n",
    "\n",
    "If you thoroughly followed this demo you probably noticed that Hopsworks Feature Store uses Apache Hudi as its time travel engine. Hudi introduces the notion of `commits` which means that it supports certain properties of traditional databases such as single-table transactions, snapshot isolation, atomic upserts and savepoints for data recovery. If an ingestion fails for some reason, no partial results will be written rather the ingestion will be roll-backed. The commit is implemented using atomic `mv` operation in HDFS. \n",
    "\n",
    "Currently, feature groups that we created contain only a single commit each as we've just done a single bulk-insert. Lets explore time line of `economy_fg`:"
   ]
  },
  {
   "cell_type": "code",
   "execution_count": 10,
   "metadata": {},
   "outputs": [
    {
     "name": "stdout",
     "output_type": "stream",
     "text": [
      "(1624400495000, {'committedOn': '20210622222135', 'rowsUpdated': 0, 'rowsInserted': 5, 'rowsDeleted': 0})"
     ]
    }
   ],
   "source": [
    "for item in prodocut_views_fg.commit_details().items():\n",
    "    print(item)"
   ]
  },
  {
   "cell_type": "code",
   "execution_count": 11,
   "metadata": {},
   "outputs": [
    {
     "name": "stdout",
     "output_type": "stream",
     "text": [
      "(1624400432000, {'committedOn': '20210622222032', 'rowsUpdated': 0, 'rowsInserted': 8, 'rowsDeleted': 0})"
     ]
    }
   ],
   "source": [
    "for item in prodocuts_fg.commit_details().items():\n",
    "    print(item)"
   ]
  },
  {
   "cell_type": "markdown",
   "metadata": {},
   "source": [
    "### Inspect results"
   ]
  },
  {
   "cell_type": "code",
   "execution_count": 12,
   "metadata": {},
   "outputs": [
    {
     "name": "stdout",
     "output_type": "stream",
     "text": [
      "+----------+------------+-----------+-------+--------+\n",
      "|product_id|sub_category|   category|  brand|   price|\n",
      "+----------+------------+-----------+-------+--------+\n",
      "|   1000001|  smartphone|electronics|  apple|10081.98|\n",
      "|   1000002|      tablet|electronics|  apple| 2642.17|\n",
      "|   1000003|   earphones|electronics|  apple|  747.79|\n",
      "|   1000004|   earphones|electronics|samsung|  614.53|\n",
      "|   1000005|          TV|electronics|samsung|12347.83|\n",
      "|   1000006|  smartphone|electronics|samsung| 7632.76|\n",
      "|   1000007|          TV|electronics|   sony|11234.21|\n",
      "|   1000008|   earphones|electronics|   sony|  398.67|\n",
      "+----------+------------+-----------+-------+--------+"
     ]
    }
   ],
   "source": [
    "prodocuts_fg.read().show()"
   ]
  },
  {
   "cell_type": "code",
   "execution_count": 13,
   "metadata": {},
   "outputs": [
    {
     "name": "stdout",
     "output_type": "stream",
     "text": [
      "+----------+----------+---------+---------------+-------------------+--------------------+-------------+\n",
      "|product_id|event_type|  user_id|event_timestamp|         event_time|        user_session|         hour|\n",
      "+----------+----------+---------+---------------+-------------------+--------------------+-------------+\n",
      "|   1000001|      view|524325294|     1624398346|2021-06-22 23:45:46|0b74a829-f9d7-465...|2021-06-22-23|\n",
      "|   1000001|      view|524325294|     1624398650|2021-06-22 23:50:50|0b74a829-f9d7-465...|2021-06-22-23|\n",
      "|   1000001|      view|535871217|     1624397734|2021-06-22 23:35:34|c6bd7419-2748-4c5...|2021-06-22-23|\n",
      "|   1000006|      view|535871217|     1624398017|2021-06-22 23:40:17|c6bd7419-2748-4c5...|2021-06-22-23|\n",
      "|   1000003|      view|535871218|     1624398900|2021-06-22 23:55:00|2b1311db-31c8-498...|2021-06-22-23|\n",
      "+----------+----------+---------+---------------+-------------------+--------------------+-------------+"
     ]
    }
   ],
   "source": [
    "prodocut_views_fg.read().show()"
   ]
  },
  {
   "cell_type": "markdown",
   "metadata": {},
   "source": [
    "### Upsert new data into a Feature Group\n",
    "\n",
    "So far we have not done anything time travel special, we simply did a regular bulk-insert of some data into a Hudi enabled feature group. We could have done the same thing using just regular None Hudi enabled Feature group. However now we will look into how we can do upserts, and how Hopsworks Feature store enables us to do this efficiently."
   ]
  },
  {
   "cell_type": "markdown",
   "metadata": {},
   "source": [
    "#### Generate Sample Upserts Data"
   ]
  },
  {
   "cell_type": "markdown",
   "metadata": {},
   "source": [
    "#### Make the Upsert using Hopsworks Feature Store API\n",
    "In Hopsworks Feature Store issuing `insert` method on Apache Hudi enabled feature group will by default perform `Upsert` operation which means to either insert a new row, or on the basis of `parimary` and `partition` keys update already existing one."
   ]
  },
  {
   "cell_type": "code",
   "execution_count": 14,
   "metadata": {},
   "outputs": [],
   "source": [
    "prodocut_views_insert = [\n",
    "    Row(1624399508, \"2021-06-23 00:05:08\", \"2021-06-23-00\", 524325294, \"0b74a829-f9d7-4654-b5b0-35bc9822c238\", \"cart\", 1000001),\n",
    "    Row(1624399846, \"2021-06-23 00:10:46\", \"2021-06-23-00\", 543272936, \"8187d148-3c41-46d4-b0c0-9c08cd9dc564\", \"view\", 1000006),\n",
    "    Row(1624400156, \"2021-06-23 00:15:56\", \"2021-06-23-00\", 543272936, \"a57e52b0-c339-4cc8-8d6f-32fd1dd1df65\", \"view\", 1000006),\n",
    "    Row(1624399140, \"2021-06-22 23:59:00\", \"2021-06-22-23\", 535871218, \"2b1311db-31c8-498b-b5f1-6f9a107580b5\", \"view\", 1000003)\n",
    "]\n",
    "\n",
    "prodocut_views_insert_df = spark.createDataFrame(prodocut_views_insert, prodocut_views_schema)\n",
    "prodocut_views_fg.insert(prodocut_views_insert_df,write_options=extra_hudi_options)"
   ]
  },
  {
   "cell_type": "code",
   "execution_count": 15,
   "metadata": {},
   "outputs": [],
   "source": [
    "prodocut_views_insert = [\n",
    "    Row(1624400414, \"2021-06-23 00:20:14\", \"2021-06-23-00\", 543272936, \"8187d148-3c41-46d4-b0c0-9c08cd9dc564\", \"purchase\", 1000006),\n",
    "    Row(1624400730, \"2021-06-23 00:25:30\", \"2021-06-23-00\", 543272936, \"a57e52b0-c339-4cc8-8d6f-32fd1dd1df65\", \"view\", 1000006),\n",
    "    Row(1624401033, \"2021-06-23 00:30:33\", \"2021-06-23-00\", 524325294, \"0b74a829-f9d7-4654-b5b0-35bc9822c238\", \"purchase\", 1000001),\n",
    "    Row(1624401348, \"2021-06-23 00:35:48\", \"2021-06-23-00\", 543272936, \"8187d148-3c41-46d4-b0c0-9c08cd9dc564\", \"view\", 1000006)\n",
    "]\n",
    "\n",
    "prodocut_views_insert_df = spark.createDataFrame(prodocut_views_insert, prodocut_views_schema)\n",
    "prodocut_views_fg.insert(prodocut_views_insert_df,write_options=extra_hudi_options)"
   ]
  },
  {
   "cell_type": "code",
   "execution_count": 16,
   "metadata": {},
   "outputs": [],
   "source": [
    "prodocut_views_insert = [\n",
    "    Row(1624401649, \"2021-06-23 00:40:49\", \"2021-06-23-00\", 543272936, \"a57e52b0-c339-4cc8-8d6f-32fd1dd1df65\", \"purchase\", 1000006),\n",
    "    Row(1624401902, \"2021-06-23 00:45:02\", \"2021-06-23-00\", 543272936, \"8187d148-3c41-46d4-b0c0-9c08cd9dc564\", \"view\", 1000006),\n",
    "    Row(1624402205, \"2021-06-23 00:50:05\", \"2021-06-23-00\", 543272936, \"a57e52b0-c339-4cc8-8d6f-32fd1dd1df65\", \"view\", 1000006),\n",
    "    Row(1624402522, \"2021-06-23 00:55:22\", \"2021-06-23-00\", 535871217, \"c6bd7419-2748-4c56-95b4-8cec9ff8b80d\", \"cart\", 1000002),\n",
    "    Row(1624402682, \"2021-06-23 00:58:02\", \"2021-06-23-00\", 543272936, \"a57e52b0-c339-4cc8-8d6f-32fd1dd1df65\", \"view\", 1000006),\n",
    "    Row(1624402793, \"2021-06-23 00:59:53\", \"2021-06-23-00\", 535871217, \"c6bd7419-2748-4c56-95b4-8cec9ff8b80d\", \"purchase\", 1000002)\n",
    "]\n",
    "        \n",
    "prodocut_views_insert_df = spark.createDataFrame(prodocut_views_insert, prodocut_views_schema)\n",
    "prodocut_views_fg.insert(prodocut_views_insert_df,write_options=extra_hudi_options)"
   ]
  },
  {
   "cell_type": "markdown",
   "metadata": {},
   "source": [
    "#### Inspect the results\n",
    "\n",
    "Notice that although Hudi enabled Feature group stores the old value of the records from the previous commit, when you query it will only return the values of the latest commit."
   ]
  },
  {
   "cell_type": "code",
   "execution_count": 17,
   "metadata": {},
   "outputs": [
    {
     "name": "stdout",
     "output_type": "stream",
     "text": [
      "+----------+----------+---------+---------------+-------------------+--------------------+-------------+\n",
      "|product_id|event_type|  user_id|event_timestamp|         event_time|        user_session|         hour|\n",
      "+----------+----------+---------+---------------+-------------------+--------------------+-------------+\n",
      "|   1000001|      cart|524325294|     1624399508|2021-06-23 00:05:08|0b74a829-f9d7-465...|2021-06-23-00|\n",
      "|   1000006|      view|543272936|     1624399846|2021-06-23 00:10:46|8187d148-3c41-46d...|2021-06-23-00|\n",
      "|   1000006|      view|543272936|     1624400156|2021-06-23 00:15:56|a57e52b0-c339-4cc...|2021-06-23-00|\n",
      "|   1000001|  purchase|524325294|     1624401033|2021-06-23 00:30:33|0b74a829-f9d7-465...|2021-06-23-00|\n",
      "|   1000006|      view|543272936|     1624400730|2021-06-23 00:25:30|a57e52b0-c339-4cc...|2021-06-23-00|\n",
      "|   1000006|  purchase|543272936|     1624400414|2021-06-23 00:20:14|8187d148-3c41-46d...|2021-06-23-00|\n",
      "|   1000006|      view|543272936|     1624401348|2021-06-23 00:35:48|8187d148-3c41-46d...|2021-06-23-00|\n",
      "|   1000002|  purchase|535871217|     1624402793|2021-06-23 00:59:53|c6bd7419-2748-4c5...|2021-06-23-00|\n",
      "|   1000006|      view|543272936|     1624402205|2021-06-23 00:50:05|a57e52b0-c339-4cc...|2021-06-23-00|\n",
      "|   1000006|      view|543272936|     1624401902|2021-06-23 00:45:02|8187d148-3c41-46d...|2021-06-23-00|\n",
      "|   1000006|  purchase|543272936|     1624401649|2021-06-23 00:40:49|a57e52b0-c339-4cc...|2021-06-23-00|\n",
      "|   1000006|      view|543272936|     1624402682|2021-06-23 00:58:02|a57e52b0-c339-4cc...|2021-06-23-00|\n",
      "|   1000002|      cart|535871217|     1624402522|2021-06-23 00:55:22|c6bd7419-2748-4c5...|2021-06-23-00|\n",
      "|   1000001|      view|524325294|     1624398346|2021-06-22 23:45:46|0b74a829-f9d7-465...|2021-06-22-23|\n",
      "|   1000001|      view|524325294|     1624398650|2021-06-22 23:50:50|0b74a829-f9d7-465...|2021-06-22-23|\n",
      "|   1000001|      view|535871217|     1624397734|2021-06-22 23:35:34|c6bd7419-2748-4c5...|2021-06-22-23|\n",
      "|   1000006|      view|535871217|     1624398017|2021-06-22 23:40:17|c6bd7419-2748-4c5...|2021-06-22-23|\n",
      "|   1000003|      view|535871218|     1624398900|2021-06-22 23:55:00|2b1311db-31c8-498...|2021-06-22-23|\n",
      "|   1000003|      view|535871218|     1624399140|2021-06-22 23:59:00|2b1311db-31c8-498...|2021-06-22-23|\n",
      "+----------+----------+---------+---------------+-------------------+--------------------+-------------+"
     ]
    }
   ],
   "source": [
    "prodocut_views_fg.read().show()"
   ]
  },
  {
   "cell_type": "markdown",
   "metadata": {},
   "source": [
    "#### Inspect the updated commit timeline of `economyFg`"
   ]
  },
  {
   "cell_type": "code",
   "execution_count": 18,
   "metadata": {},
   "outputs": [
    {
     "name": "stdout",
     "output_type": "stream",
     "text": [
      "(1624400675000, {'committedOn': '20210622222435', 'rowsUpdated': 0, 'rowsInserted': 6, 'rowsDeleted': 0})\n",
      "(1624400617000, {'committedOn': '20210622222337', 'rowsUpdated': 0, 'rowsInserted': 4, 'rowsDeleted': 0})\n",
      "(1624400552000, {'committedOn': '20210622222232', 'rowsUpdated': 0, 'rowsInserted': 4, 'rowsDeleted': 0})\n",
      "(1624400495000, {'committedOn': '20210622222135', 'rowsUpdated': 0, 'rowsInserted': 5, 'rowsDeleted': 0})"
     ]
    }
   ],
   "source": [
    "for item in prodocut_views_fg.commit_details().items():\n",
    "    print(item)"
   ]
  },
  {
   "cell_type": "markdown",
   "metadata": {},
   "source": [
    "### Time Travel Queries\n",
    "When `read` method is issued on `FeatureGroup` object, whithout any aparameters, most recent view of the Feature group will be returned. "
   ]
  },
  {
   "cell_type": "code",
   "execution_count": 19,
   "metadata": {},
   "outputs": [
    {
     "name": "stdout",
     "output_type": "stream",
     "text": [
      "+----------+----------+---------+---------------+-------------------+--------------------+-------------+\n",
      "|product_id|event_type|  user_id|event_timestamp|         event_time|        user_session|         hour|\n",
      "+----------+----------+---------+---------------+-------------------+--------------------+-------------+\n",
      "|   1000001|      cart|524325294|     1624399508|2021-06-23 00:05:08|0b74a829-f9d7-465...|2021-06-23-00|\n",
      "|   1000006|      view|543272936|     1624399846|2021-06-23 00:10:46|8187d148-3c41-46d...|2021-06-23-00|\n",
      "|   1000006|      view|543272936|     1624400156|2021-06-23 00:15:56|a57e52b0-c339-4cc...|2021-06-23-00|\n",
      "|   1000001|  purchase|524325294|     1624401033|2021-06-23 00:30:33|0b74a829-f9d7-465...|2021-06-23-00|\n",
      "|   1000006|      view|543272936|     1624400730|2021-06-23 00:25:30|a57e52b0-c339-4cc...|2021-06-23-00|\n",
      "|   1000006|  purchase|543272936|     1624400414|2021-06-23 00:20:14|8187d148-3c41-46d...|2021-06-23-00|\n",
      "|   1000006|      view|543272936|     1624401348|2021-06-23 00:35:48|8187d148-3c41-46d...|2021-06-23-00|\n",
      "|   1000002|  purchase|535871217|     1624402793|2021-06-23 00:59:53|c6bd7419-2748-4c5...|2021-06-23-00|\n",
      "|   1000006|      view|543272936|     1624402205|2021-06-23 00:50:05|a57e52b0-c339-4cc...|2021-06-23-00|\n",
      "|   1000006|      view|543272936|     1624401902|2021-06-23 00:45:02|8187d148-3c41-46d...|2021-06-23-00|\n",
      "|   1000006|  purchase|543272936|     1624401649|2021-06-23 00:40:49|a57e52b0-c339-4cc...|2021-06-23-00|\n",
      "|   1000006|      view|543272936|     1624402682|2021-06-23 00:58:02|a57e52b0-c339-4cc...|2021-06-23-00|\n",
      "|   1000002|      cart|535871217|     1624402522|2021-06-23 00:55:22|c6bd7419-2748-4c5...|2021-06-23-00|\n",
      "|   1000001|      view|524325294|     1624398346|2021-06-22 23:45:46|0b74a829-f9d7-465...|2021-06-22-23|\n",
      "|   1000001|      view|524325294|     1624398650|2021-06-22 23:50:50|0b74a829-f9d7-465...|2021-06-22-23|\n",
      "|   1000001|      view|535871217|     1624397734|2021-06-22 23:35:34|c6bd7419-2748-4c5...|2021-06-22-23|\n",
      "|   1000006|      view|535871217|     1624398017|2021-06-22 23:40:17|c6bd7419-2748-4c5...|2021-06-22-23|\n",
      "|   1000003|      view|535871218|     1624398900|2021-06-22 23:55:00|2b1311db-31c8-498...|2021-06-22-23|\n",
      "|   1000003|      view|535871218|     1624399140|2021-06-22 23:59:00|2b1311db-31c8-498...|2021-06-22-23|\n",
      "+----------+----------+---------+---------------+-------------------+--------------------+-------------+"
     ]
    }
   ],
   "source": [
    "prodocut_views_fg.read().show()"
   ]
  },
  {
   "cell_type": "markdown",
   "metadata": {},
   "source": [
    "Using the timeline metadata we can inspect the value of a table at a specific point in time, as well as pull changes incrementally."
   ]
  },
  {
   "cell_type": "code",
   "execution_count": 20,
   "metadata": {},
   "outputs": [
    {
     "name": "stdout",
     "output_type": "stream",
     "text": [
      "(1624400675000, {'committedOn': '20210622222435', 'rowsUpdated': 0, 'rowsInserted': 6, 'rowsDeleted': 0})\n",
      "(1624400617000, {'committedOn': '20210622222337', 'rowsUpdated': 0, 'rowsInserted': 4, 'rowsDeleted': 0})\n",
      "(1624400552000, {'committedOn': '20210622222232', 'rowsUpdated': 0, 'rowsInserted': 4, 'rowsDeleted': 0})\n",
      "(1624400495000, {'committedOn': '20210622222135', 'rowsUpdated': 0, 'rowsInserted': 5, 'rowsDeleted': 0})"
     ]
    }
   ],
   "source": [
    "for item in prodocut_views_fg.commit_details().items():\n",
    "    print(item)\n",
    "\n",
    "commit_timestamps = [prodocut_views_fg.commit_details()[c]['committedOn'] for c in sorted(prodocut_views_fg.commit_details().keys())]"
   ]
  },
  {
   "cell_type": "code",
   "execution_count": 21,
   "metadata": {},
   "outputs": [
    {
     "name": "stdout",
     "output_type": "stream",
     "text": [
      "+----------+----------+---------+---------------+-------------------+--------------------+-------------+\n",
      "|product_id|event_type|  user_id|event_timestamp|         event_time|        user_session|         hour|\n",
      "+----------+----------+---------+---------------+-------------------+--------------------+-------------+\n",
      "|   1000001|      view|524325294|     1624398346|2021-06-22 23:45:46|0b74a829-f9d7-465...|2021-06-22-23|\n",
      "|   1000001|      view|524325294|     1624398650|2021-06-22 23:50:50|0b74a829-f9d7-465...|2021-06-22-23|\n",
      "|   1000001|      view|535871217|     1624397734|2021-06-22 23:35:34|c6bd7419-2748-4c5...|2021-06-22-23|\n",
      "|   1000006|      view|535871217|     1624398017|2021-06-22 23:40:17|c6bd7419-2748-4c5...|2021-06-22-23|\n",
      "|   1000003|      view|535871218|     1624398900|2021-06-22 23:55:00|2b1311db-31c8-498...|2021-06-22-23|\n",
      "+----------+----------+---------+---------------+-------------------+--------------------+-------------+"
     ]
    }
   ],
   "source": [
    "#pull 1st commit\n",
    "prodocut_views_fg.read(commit_timestamps[0]).show()"
   ]
  },
  {
   "cell_type": "code",
   "execution_count": 22,
   "metadata": {},
   "outputs": [
    {
     "name": "stdout",
     "output_type": "stream",
     "text": [
      "+----------+----------+---------+---------------+-------------------+--------------------+-------------+\n",
      "|product_id|event_type|  user_id|event_timestamp|         event_time|        user_session|         hour|\n",
      "+----------+----------+---------+---------------+-------------------+--------------------+-------------+\n",
      "|   1000001|      cart|524325294|     1624399508|2021-06-23 00:05:08|0b74a829-f9d7-465...|2021-06-23-00|\n",
      "|   1000006|      view|543272936|     1624399846|2021-06-23 00:10:46|8187d148-3c41-46d...|2021-06-23-00|\n",
      "|   1000006|      view|543272936|     1624400156|2021-06-23 00:15:56|a57e52b0-c339-4cc...|2021-06-23-00|\n",
      "|   1000001|      view|524325294|     1624398346|2021-06-22 23:45:46|0b74a829-f9d7-465...|2021-06-22-23|\n",
      "|   1000001|      view|524325294|     1624398650|2021-06-22 23:50:50|0b74a829-f9d7-465...|2021-06-22-23|\n",
      "|   1000001|      view|535871217|     1624397734|2021-06-22 23:35:34|c6bd7419-2748-4c5...|2021-06-22-23|\n",
      "|   1000006|      view|535871217|     1624398017|2021-06-22 23:40:17|c6bd7419-2748-4c5...|2021-06-22-23|\n",
      "|   1000003|      view|535871218|     1624398900|2021-06-22 23:55:00|2b1311db-31c8-498...|2021-06-22-23|\n",
      "|   1000003|      view|535871218|     1624399140|2021-06-22 23:59:00|2b1311db-31c8-498...|2021-06-22-23|\n",
      "+----------+----------+---------+---------------+-------------------+--------------------+-------------+"
     ]
    }
   ],
   "source": [
    "#pull 2nd commit\n",
    "prodocut_views_fg.read(commit_timestamps[1]).show()"
   ]
  },
  {
   "cell_type": "code",
   "execution_count": 23,
   "metadata": {},
   "outputs": [
    {
     "name": "stdout",
     "output_type": "stream",
     "text": [
      "+----------+----------+---------+---------------+-------------------+--------------------+-------------+\n",
      "|product_id|event_type|  user_id|event_timestamp|         event_time|        user_session|         hour|\n",
      "+----------+----------+---------+---------------+-------------------+--------------------+-------------+\n",
      "|   1000001|      cart|524325294|     1624399508|2021-06-23 00:05:08|0b74a829-f9d7-465...|2021-06-23-00|\n",
      "|   1000006|      view|543272936|     1624399846|2021-06-23 00:10:46|8187d148-3c41-46d...|2021-06-23-00|\n",
      "|   1000006|      view|543272936|     1624400156|2021-06-23 00:15:56|a57e52b0-c339-4cc...|2021-06-23-00|\n",
      "|   1000001|  purchase|524325294|     1624401033|2021-06-23 00:30:33|0b74a829-f9d7-465...|2021-06-23-00|\n",
      "|   1000006|      view|543272936|     1624400730|2021-06-23 00:25:30|a57e52b0-c339-4cc...|2021-06-23-00|\n",
      "|   1000006|  purchase|543272936|     1624400414|2021-06-23 00:20:14|8187d148-3c41-46d...|2021-06-23-00|\n",
      "|   1000006|      view|543272936|     1624401348|2021-06-23 00:35:48|8187d148-3c41-46d...|2021-06-23-00|\n",
      "|   1000001|      view|524325294|     1624398346|2021-06-22 23:45:46|0b74a829-f9d7-465...|2021-06-22-23|\n",
      "|   1000001|      view|524325294|     1624398650|2021-06-22 23:50:50|0b74a829-f9d7-465...|2021-06-22-23|\n",
      "|   1000001|      view|535871217|     1624397734|2021-06-22 23:35:34|c6bd7419-2748-4c5...|2021-06-22-23|\n",
      "|   1000006|      view|535871217|     1624398017|2021-06-22 23:40:17|c6bd7419-2748-4c5...|2021-06-22-23|\n",
      "|   1000003|      view|535871218|     1624398900|2021-06-22 23:55:00|2b1311db-31c8-498...|2021-06-22-23|\n",
      "|   1000003|      view|535871218|     1624399140|2021-06-22 23:59:00|2b1311db-31c8-498...|2021-06-22-23|\n",
      "+----------+----------+---------+---------------+-------------------+--------------------+-------------+"
     ]
    }
   ],
   "source": [
    "#pull 3rd commit\n",
    "prodocut_views_fg.read(commit_timestamps[2]).show()"
   ]
  },
  {
   "cell_type": "markdown",
   "metadata": {},
   "source": [
    "### Hopsworks Feature Store also provides a method for incremental reads:"
   ]
  },
  {
   "cell_type": "code",
   "execution_count": 24,
   "metadata": {},
   "outputs": [
    {
     "name": "stdout",
     "output_type": "stream",
     "text": [
      "+----------+----------+---------+---------------+-------------------+--------------------+-------------+\n",
      "|product_id|event_type|  user_id|event_timestamp|         event_time|        user_session|         hour|\n",
      "+----------+----------+---------+---------------+-------------------+--------------------+-------------+\n",
      "|   1000001|      cart|524325294|     1624399508|2021-06-23 00:05:08|0b74a829-f9d7-465...|2021-06-23-00|\n",
      "|   1000006|      view|543272936|     1624399846|2021-06-23 00:10:46|8187d148-3c41-46d...|2021-06-23-00|\n",
      "|   1000006|      view|543272936|     1624400156|2021-06-23 00:15:56|a57e52b0-c339-4cc...|2021-06-23-00|\n",
      "|   1000003|      view|535871218|     1624399140|2021-06-22 23:59:00|2b1311db-31c8-498...|2021-06-22-23|\n",
      "+----------+----------+---------+---------------+-------------------+--------------------+-------------+"
     ]
    }
   ],
   "source": [
    "#Pull changes that happened between the first and second commits\n",
    "prodocut_views_fg.read_changes(commit_timestamps[0], commit_timestamps[1]).show()"
   ]
  },
  {
   "cell_type": "code",
   "execution_count": 25,
   "metadata": {},
   "outputs": [
    {
     "name": "stdout",
     "output_type": "stream",
     "text": [
      "+----------+----------+---------+---------------+-------------------+--------------------+-------------+\n",
      "|product_id|event_type|  user_id|event_timestamp|         event_time|        user_session|         hour|\n",
      "+----------+----------+---------+---------------+-------------------+--------------------+-------------+\n",
      "|   1000001|      cart|524325294|     1624399508|2021-06-23 00:05:08|0b74a829-f9d7-465...|2021-06-23-00|\n",
      "|   1000006|      view|543272936|     1624399846|2021-06-23 00:10:46|8187d148-3c41-46d...|2021-06-23-00|\n",
      "|   1000006|      view|543272936|     1624400156|2021-06-23 00:15:56|a57e52b0-c339-4cc...|2021-06-23-00|\n",
      "|   1000003|      view|535871218|     1624399140|2021-06-22 23:59:00|2b1311db-31c8-498...|2021-06-22-23|\n",
      "+----------+----------+---------+---------------+-------------------+--------------------+-------------+"
     ]
    }
   ],
   "source": [
    "prodocut_views_fg.read_changes(commit_timestamps[0], commit_timestamps[1]).show()"
   ]
  },
  {
   "cell_type": "code",
   "execution_count": 26,
   "metadata": {},
   "outputs": [
    {
     "name": "stdout",
     "output_type": "stream",
     "text": [
      "+----------+----------+---------+---------------+-------------------+--------------------+-------------+\n",
      "|product_id|event_type|  user_id|event_timestamp|         event_time|        user_session|         hour|\n",
      "+----------+----------+---------+---------------+-------------------+--------------------+-------------+\n",
      "|   1000001|      cart|524325294|     1624399508|2021-06-23 00:05:08|0b74a829-f9d7-465...|2021-06-23-00|\n",
      "|   1000006|      view|543272936|     1624399846|2021-06-23 00:10:46|8187d148-3c41-46d...|2021-06-23-00|\n",
      "|   1000006|      view|543272936|     1624400156|2021-06-23 00:15:56|a57e52b0-c339-4cc...|2021-06-23-00|\n",
      "|   1000001|  purchase|524325294|     1624401033|2021-06-23 00:30:33|0b74a829-f9d7-465...|2021-06-23-00|\n",
      "|   1000006|      view|543272936|     1624400730|2021-06-23 00:25:30|a57e52b0-c339-4cc...|2021-06-23-00|\n",
      "|   1000006|  purchase|543272936|     1624400414|2021-06-23 00:20:14|8187d148-3c41-46d...|2021-06-23-00|\n",
      "|   1000006|      view|543272936|     1624401348|2021-06-23 00:35:48|8187d148-3c41-46d...|2021-06-23-00|\n",
      "|   1000003|      view|535871218|     1624399140|2021-06-22 23:59:00|2b1311db-31c8-498...|2021-06-22-23|\n",
      "+----------+----------+---------+---------------+-------------------+--------------------+-------------+"
     ]
    }
   ],
   "source": [
    "#Pull changes that happened between the first and third commits \n",
    "prodocut_views_fg.read_changes(commit_timestamps[0], commit_timestamps[2]).show()"
   ]
  },
  {
   "cell_type": "markdown",
   "metadata": {},
   "source": [
    "## Perform incremental descriptive statistics: count type of events that occured between 1st and 4th commit "
   ]
  },
  {
   "cell_type": "code",
   "execution_count": 27,
   "metadata": {},
   "outputs": [
    {
     "name": "stdout",
     "output_type": "stream",
     "text": [
      "+----------+-----+\n",
      "|event_type|count|\n",
      "+----------+-----+\n",
      "|  purchase|    4|\n",
      "|      view|    8|\n",
      "|      cart|    2|\n",
      "+----------+-----+"
     ]
    }
   ],
   "source": [
    "prodocut_views_fg.read_changes(commit_timestamps[0], commit_timestamps[3]).select(\"event_type\").groupBy('event_type').count().show()"
   ]
  },
  {
   "cell_type": "markdown",
   "metadata": {},
   "source": [
    "### Join Feature groups that correspond to specific point in time\n",
    "If we are interetsted to join Feature groups all of them correspong to one specific point in time then we can issue `as_of` method on join `Query` object.  "
   ]
  },
  {
   "cell_type": "code",
   "execution_count": 28,
   "metadata": {},
   "outputs": [],
   "source": [
    "joined_features = ((prodocuts_fg.select_all())\n",
    "                   .join(prodocut_views_fg.select_all(), [\"product_id\"], \"INNER\", prefix=\"views_\")\n",
    "                   .as_of(commit_timestamps[2]))  "
   ]
  },
  {
   "cell_type": "code",
   "execution_count": 29,
   "metadata": {},
   "outputs": [
    {
     "name": "stdout",
     "output_type": "stream",
     "text": [
      "+----------+------------+-----------+-------+--------+----------------+----------------+-------------+---------------------+-------------------+--------------------+-------------+\n",
      "|product_id|sub_category|   category|  brand|   price|views_product_id|views_event_type|views_user_id|views_event_timestamp|   views_event_time|  views_user_session|   views_hour|\n",
      "+----------+------------+-----------+-------+--------+----------------+----------------+-------------+---------------------+-------------------+--------------------+-------------+\n",
      "|   1000001|  smartphone|electronics|  apple|10081.98|         1000001|            cart|    524325294|           1624399508|2021-06-23 00:05:08|0b74a829-f9d7-465...|2021-06-23-00|\n",
      "|   1000001|  smartphone|electronics|  apple|10081.98|         1000001|        purchase|    524325294|           1624401033|2021-06-23 00:30:33|0b74a829-f9d7-465...|2021-06-23-00|\n",
      "|   1000001|  smartphone|electronics|  apple|10081.98|         1000001|            view|    524325294|           1624398346|2021-06-22 23:45:46|0b74a829-f9d7-465...|2021-06-22-23|\n",
      "|   1000001|  smartphone|electronics|  apple|10081.98|         1000001|            view|    524325294|           1624398650|2021-06-22 23:50:50|0b74a829-f9d7-465...|2021-06-22-23|\n",
      "|   1000001|  smartphone|electronics|  apple|10081.98|         1000001|            view|    535871217|           1624397734|2021-06-22 23:35:34|c6bd7419-2748-4c5...|2021-06-22-23|\n",
      "|   1000003|   earphones|electronics|  apple|  747.79|         1000003|            view|    535871218|           1624398900|2021-06-22 23:55:00|2b1311db-31c8-498...|2021-06-22-23|\n",
      "|   1000003|   earphones|electronics|  apple|  747.79|         1000003|            view|    535871218|           1624399140|2021-06-22 23:59:00|2b1311db-31c8-498...|2021-06-22-23|\n",
      "|   1000006|  smartphone|electronics|samsung| 7632.76|         1000006|            view|    543272936|           1624399846|2021-06-23 00:10:46|8187d148-3c41-46d...|2021-06-23-00|\n",
      "|   1000006|  smartphone|electronics|samsung| 7632.76|         1000006|            view|    543272936|           1624400156|2021-06-23 00:15:56|a57e52b0-c339-4cc...|2021-06-23-00|\n",
      "|   1000006|  smartphone|electronics|samsung| 7632.76|         1000006|            view|    543272936|           1624400730|2021-06-23 00:25:30|a57e52b0-c339-4cc...|2021-06-23-00|\n",
      "|   1000006|  smartphone|electronics|samsung| 7632.76|         1000006|        purchase|    543272936|           1624400414|2021-06-23 00:20:14|8187d148-3c41-46d...|2021-06-23-00|\n",
      "|   1000006|  smartphone|electronics|samsung| 7632.76|         1000006|            view|    543272936|           1624401348|2021-06-23 00:35:48|8187d148-3c41-46d...|2021-06-23-00|\n",
      "|   1000006|  smartphone|electronics|samsung| 7632.76|         1000006|            view|    535871217|           1624398017|2021-06-22 23:40:17|c6bd7419-2748-4c5...|2021-06-22-23|\n",
      "+----------+------------+-----------+-------+--------+----------------+----------------+-------------+---------------------+-------------------+--------------------+-------------+"
     ]
    }
   ],
   "source": [
    "joined_features.read().show()"
   ]
  },
  {
   "cell_type": "markdown",
   "metadata": {},
   "source": [
    "### Join Feature groups that correspond to different points in time\n",
    "Hopswork Feature store also provides functionality to join Feature groups that correspond to different points in time. "
   ]
  },
  {
   "cell_type": "code",
   "execution_count": 30,
   "metadata": {},
   "outputs": [],
   "source": [
    "prodocuts_fg_query = prodocuts_fg.select_all().as_of(commit_timestamps[0])\n",
    "prodocut_views_fg_query =  prodocut_views_fg.select_all().as_of(commit_timestamps[2])"
   ]
  },
  {
   "cell_type": "code",
   "execution_count": 31,
   "metadata": {},
   "outputs": [],
   "source": [
    "joined_features = prodocuts_fg_query.join(prodocut_views_fg_query, [\"product_id\"], \"INNER\", prefix=\"views_\")"
   ]
  },
  {
   "cell_type": "code",
   "execution_count": 32,
   "metadata": {},
   "outputs": [
    {
     "name": "stdout",
     "output_type": "stream",
     "text": [
      "+----------+------------+-----------+-------+--------+----------------+----------------+-------------+---------------------+-------------------+--------------------+-------------+\n",
      "|product_id|sub_category|   category|  brand|   price|views_product_id|views_event_type|views_user_id|views_event_timestamp|   views_event_time|  views_user_session|   views_hour|\n",
      "+----------+------------+-----------+-------+--------+----------------+----------------+-------------+---------------------+-------------------+--------------------+-------------+\n",
      "|   1000001|  smartphone|electronics|  apple|10081.98|         1000001|            cart|    524325294|           1624399508|2021-06-23 00:05:08|0b74a829-f9d7-465...|2021-06-23-00|\n",
      "|   1000001|  smartphone|electronics|  apple|10081.98|         1000001|        purchase|    524325294|           1624401033|2021-06-23 00:30:33|0b74a829-f9d7-465...|2021-06-23-00|\n",
      "|   1000001|  smartphone|electronics|  apple|10081.98|         1000001|            view|    524325294|           1624398346|2021-06-22 23:45:46|0b74a829-f9d7-465...|2021-06-22-23|\n",
      "|   1000001|  smartphone|electronics|  apple|10081.98|         1000001|            view|    524325294|           1624398650|2021-06-22 23:50:50|0b74a829-f9d7-465...|2021-06-22-23|\n",
      "|   1000001|  smartphone|electronics|  apple|10081.98|         1000001|            view|    535871217|           1624397734|2021-06-22 23:35:34|c6bd7419-2748-4c5...|2021-06-22-23|\n",
      "|   1000003|   earphones|electronics|  apple|  747.79|         1000003|            view|    535871218|           1624398900|2021-06-22 23:55:00|2b1311db-31c8-498...|2021-06-22-23|\n",
      "|   1000003|   earphones|electronics|  apple|  747.79|         1000003|            view|    535871218|           1624399140|2021-06-22 23:59:00|2b1311db-31c8-498...|2021-06-22-23|\n",
      "|   1000006|  smartphone|electronics|samsung| 7632.76|         1000006|            view|    543272936|           1624399846|2021-06-23 00:10:46|8187d148-3c41-46d...|2021-06-23-00|\n",
      "|   1000006|  smartphone|electronics|samsung| 7632.76|         1000006|            view|    543272936|           1624400156|2021-06-23 00:15:56|a57e52b0-c339-4cc...|2021-06-23-00|\n",
      "|   1000006|  smartphone|electronics|samsung| 7632.76|         1000006|            view|    543272936|           1624400730|2021-06-23 00:25:30|a57e52b0-c339-4cc...|2021-06-23-00|\n",
      "|   1000006|  smartphone|electronics|samsung| 7632.76|         1000006|        purchase|    543272936|           1624400414|2021-06-23 00:20:14|8187d148-3c41-46d...|2021-06-23-00|\n",
      "|   1000006|  smartphone|electronics|samsung| 7632.76|         1000006|            view|    543272936|           1624401348|2021-06-23 00:35:48|8187d148-3c41-46d...|2021-06-23-00|\n",
      "|   1000006|  smartphone|electronics|samsung| 7632.76|         1000006|            view|    535871217|           1624398017|2021-06-22 23:40:17|c6bd7419-2748-4c5...|2021-06-22-23|\n",
      "+----------+------------+-----------+-------+--------+----------------+----------------+-------------+---------------------+-------------------+--------------------+-------------+"
     ]
    }
   ],
   "source": [
    "joined_features.read().show()"
   ]
  }
 ],
 "metadata": {
  "kernelspec": {
   "display_name": "PySpark",
   "language": "python",
   "name": "pysparkkernel"
  },
  "language_info": {
   "codemirror_mode": {
    "name": "python",
    "version": 3
   },
   "mimetype": "text/x-python",
   "name": "pyspark",
   "pygments_lexer": "python3"
  }
 },
 "nbformat": 4,
 "nbformat_minor": 4
}