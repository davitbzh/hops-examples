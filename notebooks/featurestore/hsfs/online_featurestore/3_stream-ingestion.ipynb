{
 "cells": [
  {
   "cell_type": "markdown",
   "id": "e74e62f6",
   "metadata": {},
   "source": [
    "## Connect to the Feature Store"
   ]
  },
  {
   "cell_type": "code",
   "execution_count": 1,
   "id": "c8403abc",
   "metadata": {},
   "outputs": [
    {
     "name": "stdout",
     "output_type": "stream",
     "text": [
      "Starting Spark application\n"
     ]
    },
    {
     "data": {
      "text/html": [
       "<table>\n",
       "<tr><th>ID</th><th>YARN Application ID</th><th>Kind</th><th>State</th><th>Spark UI</th><th>Driver log</th></tr><tr><td>61</td><td>application_1618238932364_0066</td><td>pyspark</td><td>idle</td><td><a target=\"_blank\" href=\"/hopsworks-api/yarnui/https://ofs-head.hw.se:8089/proxy/application_1618238932364_0066/\">Link</a></td><td><a target=\"_blank\" href=\"/hopsworks-api/yarnui/https://ofs-w1.internal.cloudapp.net:8044/node/containerlogs/container_1618238932364_0066_01_000001/card_fraud_demo__davit000\">Link</a></td></tr></table>"
      ],
      "text/plain": [
       "<IPython.core.display.HTML object>"
      ]
     },
     "metadata": {},
     "output_type": "display_data"
    },
    {
     "name": "stdout",
     "output_type": "stream",
     "text": [
      "SparkSession available as 'spark'.\n",
      "Connected. Call `.close()` to terminate connection gracefully."
     ]
    }
   ],
   "source": [
    "import hsfs\n",
    "import json\n",
    "from hops import kafka, tls\n",
    "from hsfs import engine\n",
    "\n",
    "from pyspark.sql.functions import from_json, window, avg,count, stddev, explode, date_format,col\n",
    "from pyspark.sql.types import StructField, StructType, StringType, DoubleType, TimestampType, LongType, IntegerType\n",
    "\n",
    "connection = hsfs.connection()\n",
    "fs = connection.get_feature_store()"
   ]
  },
  {
   "cell_type": "code",
   "execution_count": null,
   "id": "f59e86de",
   "metadata": {},
   "outputs": [],
   "source": []
  },
  {
   "cell_type": "markdown",
   "id": "8ba83f02",
   "metadata": {},
   "source": [
    "## Create a stream from the kafka topic\n"
   ]
  },
  {
   "cell_type": "code",
   "execution_count": 2,
   "id": "43f99b5a",
   "metadata": {},
   "outputs": [],
   "source": [
    "parse_schema = StructType([StructField('tid', StringType(), True),\n",
    "                         StructField('datetime', StringType(), True),\n",
    "                         StructField('cc_num', StringType(), True),\n",
    "                         StructField('amount', StringType(), True)])\n"
   ]
  },
  {
   "cell_type": "code",
   "execution_count": 3,
   "id": "6d762a03",
   "metadata": {},
   "outputs": [],
   "source": [
    "df_read = spark \\\n",
    "  .readStream \\\n",
    "  .format(\"kafka\") \\\n",
    "  .option(\"kafka.bootstrap.servers\", kafka.get_broker_endpoints()) \\\n",
    "  .option(\"kafka.security.protocol\",kafka.get_security_protocol()) \\\n",
    "  .option(\"kafka.ssl.truststore.location\", tls.get_trust_store()) \\\n",
    "  .option(\"kafka.ssl.truststore.password\", tls.get_key_store_pwd()) \\\n",
    "  .option(\"kafka.ssl.keystore.location\", tls.get_key_store()) \\\n",
    "  .option(\"kafka.ssl.keystore.password\", tls.get_key_store_pwd()) \\\n",
    "  .option(\"kafka.ssl.key.password\", tls.get_trust_store_pwd()) \\\n",
    "  .option(\"kafka.ssl.endpoint.identification.algorithm\", \"\") \\\n",
    "  .option(\"startingOffsets\", \"earliest\")\\\n",
    "  .option(\"subscribe\", \"credit_card_transactions_2\") \\\n",
    "  .load()\n",
    "\n",
    "df_deser = df_read.selectExpr(\"CAST(value AS STRING)\")\\\n",
    ".select(from_json(\"value\", parse_schema).alias(\"value\"))\\\n",
    ".select(\"value.tid\", \"value.datetime\", \"value.cc_num\", \"value.amount\")\\\n",
    ".selectExpr(\"CAST(tid as string)\", \"CAST(datetime as string)\", \"CAST(cc_num as long)\", \"CAST(amount as double)\")"
   ]
  },
  {
   "cell_type": "code",
   "execution_count": 4,
   "id": "0fb6781f",
   "metadata": {},
   "outputs": [
    {
     "name": "stdout",
     "output_type": "stream",
     "text": [
      "True"
     ]
    }
   ],
   "source": [
    "df_deser.isStreaming"
   ]
  },
  {
   "cell_type": "code",
   "execution_count": 5,
   "id": "4e1af52e",
   "metadata": {},
   "outputs": [
    {
     "name": "stdout",
     "output_type": "stream",
     "text": [
      "root\n",
      " |-- tid: string (nullable = true)\n",
      " |-- datetime: string (nullable = true)\n",
      " |-- cc_num: long (nullable = true)\n",
      " |-- amount: double (nullable = true)"
     ]
    }
   ],
   "source": [
    "df_deser.printSchema()"
   ]
  },
  {
   "cell_type": "markdown",
   "id": "8ca94ebd",
   "metadata": {},
   "source": [
    "## Create windowing aggregations "
   ]
  },
  {
   "cell_type": "code",
   "execution_count": 6,
   "id": "edc16946",
   "metadata": {},
   "outputs": [],
   "source": [
    "windowed10mSignalDF =df_deser \\\n",
    "    .selectExpr(\"CAST(tid as string)\", \"CAST(datetime as timestamp)\", \"CAST(cc_num as long)\", \"CAST(amount as double)\")\\\n",
    "    .withWatermark(\"datetime\", \"60 minutes\") \\\n",
    "    .groupBy(window(\"datetime\", \"10 minutes\"), \"cc_num\") \\\n",
    "    .agg(avg(\"amount\").alias(\"avg_amt_per_10m\"), stddev(\"amount\").alias(\"stdev_amt_per_10m\"), count(\"cc_num\").alias(\"num_trans_per_10m\"))\\\n",
    "    .select(\"cc_num\", \"num_trans_per_10m\", \"avg_amt_per_10m\", \"stdev_amt_per_10m\")\n",
    "#    .select(\"cc_num\", \"avg_amt_per_10m\", \"num_trans_per_10m\", date_format(\"window.start\",\"yyyy-MM-dd HH:mm:ss\").alias(\"start\"), date_format(\"window.end\",\"yyyy-MM-dd HH:mm:ss\").alias(\"end\"))\n",
    "#    .selectExpr(\"cc_num\", \"avg_amt_per_10m\", \"num_trans_per_10m\", \"CAST(window.start as timestamp) window\", \"CAST(window.end as timestamp)\")"
   ]
  },
  {
   "cell_type": "code",
   "execution_count": 7,
   "id": "239b1979",
   "metadata": {},
   "outputs": [
    {
     "name": "stdout",
     "output_type": "stream",
     "text": [
      "True"
     ]
    }
   ],
   "source": [
    "windowed10mSignalDF.isStreaming"
   ]
  },
  {
   "cell_type": "code",
   "execution_count": 8,
   "id": "3324f062",
   "metadata": {},
   "outputs": [
    {
     "name": "stdout",
     "output_type": "stream",
     "text": [
      "root\n",
      " |-- cc_num: long (nullable = true)\n",
      " |-- num_trans_per_10m: long (nullable = false)\n",
      " |-- avg_amt_per_10m: double (nullable = true)\n",
      " |-- stdev_amt_per_10m: double (nullable = true)"
     ]
    }
   ],
   "source": [
    "windowed10mSignalDF.printSchema()"
   ]
  },
  {
   "cell_type": "code",
   "execution_count": 9,
   "id": "34c2fe18",
   "metadata": {},
   "outputs": [],
   "source": [
    "windowed1hSignalDF = \\\n",
    "  df_deser \\\n",
    "    .selectExpr(\"CAST(tid as string)\", \"CAST(datetime as timestamp)\", \"CAST(cc_num as long)\", \"CAST(amount as double)\")\\\n",
    "    .withWatermark(\"datetime\", \"60 minutes\") \\\n",
    "    .groupBy(window(\"datetime\", \"60 minutes\"), \"cc_num\") \\\n",
    "    .agg(avg(\"amount\").alias(\"avg_amt_per_1h\"), stddev(\"amount\").alias(\"stdev_amt_per_1h\"), count(\"cc_num\").alias(\"num_trans_per_1h\"))\\\n",
    "    .select(\"cc_num\", \"num_trans_per_1h\", \"avg_amt_per_1h\", \"stdev_amt_per_1h\")"
   ]
  },
  {
   "cell_type": "code",
   "execution_count": 10,
   "id": "8ae9402c",
   "metadata": {},
   "outputs": [
    {
     "name": "stdout",
     "output_type": "stream",
     "text": [
      "True"
     ]
    }
   ],
   "source": [
    "windowed1hSignalDF.isStreaming"
   ]
  },
  {
   "cell_type": "code",
   "execution_count": 11,
   "id": "2b5a39b1",
   "metadata": {},
   "outputs": [
    {
     "name": "stdout",
     "output_type": "stream",
     "text": [
      "root\n",
      " |-- cc_num: long (nullable = true)\n",
      " |-- num_trans_per_1h: long (nullable = false)\n",
      " |-- avg_amt_per_1h: double (nullable = true)\n",
      " |-- stdev_amt_per_1h: double (nullable = true)"
     ]
    }
   ],
   "source": [
    "windowed1hSignalDF.printSchema()"
   ]
  },
  {
   "cell_type": "code",
   "execution_count": 12,
   "id": "007a393b",
   "metadata": {},
   "outputs": [],
   "source": [
    "windowed12hSignalDF = \\\n",
    "  df_deser \\\n",
    "    .selectExpr(\"CAST(tid as string)\", \"CAST(datetime as timestamp)\", \"CAST(cc_num as long)\", \"CAST(amount as double)\")\\\n",
    "    .withWatermark(\"datetime\", \"60 minutes\") \\\n",
    "    .groupBy(window(\"datetime\", \"12 hours\"), \"cc_num\") \\\n",
    "    .agg(avg(\"amount\").alias(\"avg_amt_per_12h\"), stddev(\"amount\").alias(\"stdev_amt_per_12h\"), count(\"cc_num\").alias(\"num_trans_per_12h\"))\\\n",
    "    .select(\"cc_num\", \"num_trans_per_12h\", \"avg_amt_per_12h\", \"stdev_amt_per_12h\")"
   ]
  },
  {
   "cell_type": "code",
   "execution_count": 60,
   "id": "a1fcc7d1",
   "metadata": {},
   "outputs": [
    {
     "name": "stdout",
     "output_type": "stream",
     "text": [
      "True"
     ]
    }
   ],
   "source": [
    "windowed12hSignalDF.isStreaming"
   ]
  },
  {
   "cell_type": "code",
   "execution_count": 61,
   "id": "3759531c",
   "metadata": {},
   "outputs": [
    {
     "name": "stdout",
     "output_type": "stream",
     "text": [
      "root\n",
      " |-- cc_num: long (nullable = true)\n",
      " |-- num_trans_per_12h: long (nullable = false)\n",
      " |-- avg_amt_per_12h: double (nullable = true)\n",
      " |-- stdev_amt_per_12h: double (nullable = true)"
     ]
    }
   ],
   "source": [
    "windowed12hSignalDF.printSchema()"
   ]
  },
  {
   "cell_type": "markdown",
   "id": "3fb54919",
   "metadata": {},
   "source": [
    "## Get feature groups"
   ]
  },
  {
   "cell_type": "code",
   "execution_count": 15,
   "id": "6cabd520",
   "metadata": {},
   "outputs": [],
   "source": [
    "card_transactions = fs.get_feature_group(\"card_transactions\", version = 6)\n",
    "card_transactions_10m_agg = fs.get_feature_group(\"card_transactions_10m_agg\", version = 6)\n",
    "card_transactions_1h_agg = fs.get_feature_group(\"card_transactions_1h_agg\", version = 6)\n",
    "card_transactions_12h_agg = fs.get_feature_group(\"card_transactions_12h_agg\", version = 6)"
   ]
  },
  {
   "cell_type": "markdown",
   "id": "e782f801",
   "metadata": {},
   "source": [
    "## Insert the stream to the online feature group\n",
    "\n",
    "Now we are ready to write this streaming dataframe as a long living application to the online storage of the other feature group."
   ]
  },
  {
   "cell_type": "code",
   "execution_count": 16,
   "id": "72309ec1",
   "metadata": {},
   "outputs": [
    {
     "name": "stdout",
     "output_type": "stream",
     "text": [
      "StatisticsWarning: Stream ingestion for feature group `card_transactions`, with version `6` will not compute statistics."
     ]
    }
   ],
   "source": [
    "query_transactions = card_transactions.insert_stream(df_deser)"
   ]
  },
  {
   "cell_type": "code",
   "execution_count": null,
   "id": "29868ed6",
   "metadata": {},
   "outputs": [],
   "source": []
  },
  {
   "cell_type": "code",
   "execution_count": 17,
   "id": "997bffac",
   "metadata": {},
   "outputs": [
    {
     "name": "stdout",
     "output_type": "stream",
     "text": [
      "StatisticsWarning: Stream ingestion for feature group `card_transactions_10m_agg`, with version `6` will not compute statistics."
     ]
    }
   ],
   "source": [
    "query_10m = card_transactions_10m_agg.insert_stream(windowed10mSignalDF)"
   ]
  },
  {
   "cell_type": "code",
   "execution_count": null,
   "id": "e4bed8fb",
   "metadata": {},
   "outputs": [],
   "source": []
  },
  {
   "cell_type": "code",
   "execution_count": 18,
   "id": "6cc6fd76",
   "metadata": {},
   "outputs": [
    {
     "name": "stdout",
     "output_type": "stream",
     "text": [
      "StatisticsWarning: Stream ingestion for feature group `card_transactions_1h_agg`, with version `6` will not compute statistics."
     ]
    }
   ],
   "source": [
    "query_1h = card_transactions_1h_agg.insert_stream(windowed1hSignalDF)"
   ]
  },
  {
   "cell_type": "code",
   "execution_count": null,
   "id": "8945df6b",
   "metadata": {},
   "outputs": [],
   "source": []
  },
  {
   "cell_type": "code",
   "execution_count": 19,
   "id": "22eb5f6b",
   "metadata": {},
   "outputs": [
    {
     "name": "stdout",
     "output_type": "stream",
     "text": [
      "StatisticsWarning: Stream ingestion for feature group `card_transactions_12h_agg`, with version `6` will not compute statistics."
     ]
    }
   ],
   "source": [
    "query_12h = card_transactions_12h_agg.insert_stream(windowed12hSignalDF)"
   ]
  },
  {
   "cell_type": "code",
   "execution_count": null,
   "id": "8c995ffe",
   "metadata": {},
   "outputs": [],
   "source": []
  },
  {
   "cell_type": "markdown",
   "id": "e5248389",
   "metadata": {},
   "source": [
    "## Check if spark streaming query is active"
   ]
  },
  {
   "cell_type": "code",
   "execution_count": 39,
   "id": "ad94b998",
   "metadata": {},
   "outputs": [
    {
     "name": "stdout",
     "output_type": "stream",
     "text": [
      "True"
     ]
    }
   ],
   "source": [
    "query_transactions.isActive"
   ]
  },
  {
   "cell_type": "code",
   "execution_count": 40,
   "id": "32d03ac6",
   "metadata": {},
   "outputs": [
    {
     "name": "stdout",
     "output_type": "stream",
     "text": [
      "True"
     ]
    }
   ],
   "source": [
    "query_10m.isActive"
   ]
  },
  {
   "cell_type": "code",
   "execution_count": 41,
   "id": "0e88fe92",
   "metadata": {},
   "outputs": [
    {
     "name": "stdout",
     "output_type": "stream",
     "text": [
      "{'message': 'Waiting for data to arrive', 'isDataAvailable': False, 'isTriggerActive': False}"
     ]
    }
   ],
   "source": [
    "query_10m.status"
   ]
  },
  {
   "cell_type": "code",
   "execution_count": 42,
   "id": "afa1395f",
   "metadata": {},
   "outputs": [],
   "source": [
    "query_10m.exception()"
   ]
  },
  {
   "cell_type": "code",
   "execution_count": 43,
   "id": "eabbd589",
   "metadata": {},
   "outputs": [
    {
     "name": "stdout",
     "output_type": "stream",
     "text": [
      "True"
     ]
    }
   ],
   "source": [
    "query_1h.isActive"
   ]
  },
  {
   "cell_type": "code",
   "execution_count": 44,
   "id": "62272ac0",
   "metadata": {},
   "outputs": [
    {
     "name": "stdout",
     "output_type": "stream",
     "text": [
      "True"
     ]
    }
   ],
   "source": [
    "query_12h.isActive"
   ]
  },
  {
   "cell_type": "code",
   "execution_count": null,
   "id": "5766f0ed",
   "metadata": {},
   "outputs": [],
   "source": []
  },
  {
   "cell_type": "markdown",
   "id": "b2addd68",
   "metadata": {},
   "source": [
    "## Check if data was ingested in oline feature store"
   ]
  },
  {
   "cell_type": "code",
   "execution_count": 45,
   "id": "77219dda",
   "metadata": {},
   "outputs": [
    {
     "name": "stdout",
     "output_type": "stream",
     "text": [
      "+--------------------------------+-------------------+----------------+-------+\n",
      "|tid                             |datetime           |cc_num          |amount |\n",
      "+--------------------------------+-------------------+----------------+-------+\n",
      "|a7da91ddadd1f991f99cd7a0f8528c57|2021-04-01 00:09:47|4783713328425247|85.4   |\n",
      "|5118456824eef09b03cb99f35c44b59c|2021-04-01 00:14:47|4161715127983823|765.34 |\n",
      "|a466e4d3e711ee73f22a66b834808461|2021-04-01 00:19:19|4858129660270572|1793.42|\n",
      "|11d38fd0dceb580803747f235bcb8f48|2021-04-01 00:22:19|4676706014866559|93.04  |\n",
      "|cd065ed76a7f866c07e8681b15e37bb8|2021-04-01 00:22:34|4789490563144262|86.15  |\n",
      "|bf6a88b79a9b5da5db3822e4e336d576|2021-04-01 00:28:06|4388795302273767|179.29 |\n",
      "|95c8de0edfe852c11e08f31423ef513a|2021-04-01 00:40:25|4879493428361965|252.06 |\n",
      "|f9781738ad83a0d7f4fd37bc350219a6|2021-04-01 00:42:14|4436298663019939|831.82 |\n",
      "|47fee4d3810beb5c8985cab4838cae58|2021-04-01 00:42:22|4829328237114208|809.14 |\n",
      "|71bea46fa722fd1665cff411ec83de7a|2021-04-01 00:46:59|4546601918511609|89.44  |\n",
      "|8a272fe54370c2fd53e5086c459d2ac5|2021-04-01 00:50:59|4226063306212844|5661.8 |\n",
      "|39c9846d8e373064917ecec1cf8985d0|2021-04-01 00:51:41|4950757030424276|48.5   |\n",
      "|09c91e9b2d520b53874de40194038210|2021-04-01 00:53:22|4734811798843814|91.44  |\n",
      "|762f317ec3ec8810ac99759f78e4e8cd|2021-04-01 00:54:32|4186054708565028|21.57  |\n",
      "|42d76d04b9bd51686e4a8eaaeebe7b85|2021-04-01 00:56:21|4208317936968510|14.42  |\n",
      "|b43474d0d3fc8788df536a2ce064d6fd|2021-04-01 00:56:25|4232153519700594|252.65 |\n",
      "|218f319d35f1df624e5acaed6cdc79f4|2021-04-01 00:57:50|4526094550580419|7.84   |\n",
      "|72668467c231a8f9f237e29eee172622|2021-04-01 01:00:29|4880931623427294|8226.07|\n",
      "|ba47405b647fff340c529319eb30da59|2021-04-01 01:04:58|4738705475489956|1207.98|\n",
      "|47e43d64c6ba58984675e0a12a5cb343|2021-04-01 01:16:18|4893308344742860|6.92   |\n",
      "+--------------------------------+-------------------+----------------+-------+\n",
      "only showing top 20 rows"
     ]
    }
   ],
   "source": [
    "fs.sql(\"SELECT * FROM card_transactions_6\",online=True).show(20,False)"
   ]
  },
  {
   "cell_type": "code",
   "execution_count": 46,
   "id": "68bc9436",
   "metadata": {},
   "outputs": [
    {
     "name": "stdout",
     "output_type": "stream",
     "text": [
      "5400"
     ]
    }
   ],
   "source": [
    "fs.sql(\"SELECT * FROM card_transactions_6\",online=True).count()"
   ]
  },
  {
   "cell_type": "code",
   "execution_count": 47,
   "id": "50ae1b26",
   "metadata": {},
   "outputs": [
    {
     "name": "stdout",
     "output_type": "stream",
     "text": [
      "+--------------------+-------------------+----------------+-------+\n",
      "|                 tid|           datetime|          cc_num| amount|\n",
      "+--------------------+-------------------+----------------+-------+\n",
      "|a7da91ddadd1f991f...|2021-04-01 00:09:47|4783713328425247|   85.4|\n",
      "|5118456824eef09b0...|2021-04-01 00:14:47|4161715127983823| 765.34|\n",
      "|a466e4d3e711ee73f...|2021-04-01 00:19:19|4858129660270572|1793.42|\n",
      "|11d38fd0dceb58080...|2021-04-01 00:22:19|4676706014866559|  93.04|\n",
      "|cd065ed76a7f866c0...|2021-04-01 00:22:34|4789490563144262|  86.15|\n",
      "|bf6a88b79a9b5da5d...|2021-04-01 00:28:06|4388795302273767| 179.29|\n",
      "|95c8de0edfe852c11...|2021-04-01 00:40:25|4879493428361965| 252.06|\n",
      "|f9781738ad83a0d7f...|2021-04-01 00:42:14|4436298663019939| 831.82|\n",
      "|47fee4d3810beb5c8...|2021-04-01 00:42:22|4829328237114208| 809.14|\n",
      "|71bea46fa722fd166...|2021-04-01 00:46:59|4546601918511609|  89.44|\n",
      "|8a272fe54370c2fd5...|2021-04-01 00:50:59|4226063306212844| 5661.8|\n",
      "|39c9846d8e3730649...|2021-04-01 00:51:41|4950757030424276|   48.5|\n",
      "|09c91e9b2d520b538...|2021-04-01 00:53:22|4734811798843814|  91.44|\n",
      "|762f317ec3ec8810a...|2021-04-01 00:54:32|4186054708565028|  21.57|\n",
      "|42d76d04b9bd51686...|2021-04-01 00:56:21|4208317936968510|  14.42|\n",
      "|b43474d0d3fc8788d...|2021-04-01 00:56:25|4232153519700594| 252.65|\n",
      "|218f319d35f1df624...|2021-04-01 00:57:50|4526094550580419|   7.84|\n",
      "|72668467c231a8f9f...|2021-04-01 01:00:29|4880931623427294|8226.07|\n",
      "|ba47405b647fff340...|2021-04-01 01:04:58|4738705475489956|1207.98|\n",
      "|47e43d64c6ba58984...|2021-04-01 01:16:18|4893308344742860|   6.92|\n",
      "+--------------------+-------------------+----------------+-------+\n",
      "only showing top 20 rows"
     ]
    }
   ],
   "source": [
    "fs.sql(\"SELECT * FROM card_transactions_6\",online=True).show()"
   ]
  },
  {
   "cell_type": "markdown",
   "id": "d4db5faa",
   "metadata": {},
   "source": [
    "# Insert to Offline FG"
   ]
  },
  {
   "cell_type": "code",
   "execution_count": 48,
   "id": "56a16682",
   "metadata": {},
   "outputs": [],
   "source": [
    "def foreach_batch_function_card(batchDF, epoch_id):\n",
    "    batchDF.persist()\n",
    "    print(epoch_id)\n",
    "    extra_hudi_options = {\n",
    "    \"hoodie.bulkinsert.shuffle.parallelism\":\"1\",     \n",
    "    \"hoodie.insert.shuffle.parallelism\":\"1\", \n",
    "    \"hoodie.upsert.shuffle.parallelism\":\"1\",\n",
    "    \"hoodie.parquet.compression.ratio\":\"0.5\"\n",
    "    }\n",
    "    # Transform and write batchDF\n",
    "    card_transactions.insert(batchDF,write_options=extra_hudi_options)\n",
    "    batchDF.unpersist()\n",
    "\n",
    "hudi_card = df_deser.writeStream.foreachBatch(foreach_batch_function_card)\\\n",
    ".option(\"checkpointLocation\", \"hdfs:///Projects/card_fraud_demo/Resources/checkpoint-card\")\\\n",
    ".trigger(processingTime=\"10 seconds\")\\\n",
    ".start()    "
   ]
  },
  {
   "cell_type": "code",
   "execution_count": 49,
   "id": "9c06cb74",
   "metadata": {},
   "outputs": [],
   "source": [
    "def foreach_batch_function_10m(batchDF, epoch_id):\n",
    "    batchDF.persist()\n",
    "    print(epoch_id)\n",
    "    extra_hudi_options = {\n",
    "    \"hoodie.bulkinsert.shuffle.parallelism\":\"1\",     \n",
    "    \"hoodie.insert.shuffle.parallelism\":\"1\", \n",
    "    \"hoodie.upsert.shuffle.parallelism\":\"1\",\n",
    "    \"hoodie.parquet.compression.ratio\":\"0.5\"\n",
    "    }\n",
    "    # Transform and write batchDF\n",
    "    card_transactions_10m_agg.insert(batchDF,write_options=extra_hudi_options)\n",
    "    batchDF.unpersist()\n",
    "\n",
    "hudi_10m = windowed10mSignalDF.writeStream.foreachBatch(foreach_batch_function_10m)\\\n",
    ".option(\"checkpointLocation\", \"hdfs:///Projects/card_fraud_demo/Resources/checkpoint-data10m\")\\\n",
    ".trigger(processingTime=\"10 seconds\")\\\n",
    ".start()    "
   ]
  },
  {
   "cell_type": "code",
   "execution_count": 50,
   "id": "5d9fac50",
   "metadata": {},
   "outputs": [],
   "source": [
    "def foreach_batch_function_1h(batchDF, epoch_id):\n",
    "    batchDF.persist()\n",
    "    print(epoch_id)\n",
    "    extra_hudi_options = {\n",
    "    \"hoodie.bulkinsert.shuffle.parallelism\":\"1\",     \n",
    "    \"hoodie.insert.shuffle.parallelism\":\"1\", \n",
    "    \"hoodie.upsert.shuffle.parallelism\":\"1\",\n",
    "    \"hoodie.parquet.compression.ratio\":\"0.5\"\n",
    "    }\n",
    "    # Transform and write batchDF\n",
    "    card_transactions_1h_agg.insert(batchDF,write_options=extra_hudi_options)\n",
    "    batchDF.unpersist()\n",
    "\n",
    "hudi_1h = windowed1hSignalDF.writeStream.foreachBatch(foreach_batch_function_1h)\\\n",
    ".option(\"checkpointLocation\", \"hdfs:///Projects/card_fraud_demo/Resources/checkpoint-1h\")\\\n",
    ".trigger(processingTime=\"10 seconds\")\\\n",
    ".start()"
   ]
  },
  {
   "cell_type": "code",
   "execution_count": 51,
   "id": "9a9a6108",
   "metadata": {},
   "outputs": [],
   "source": [
    "def foreach_batch_function_12h(batchDF, epoch_id):\n",
    "    batchDF.persist()\n",
    "    print(epoch_id)\n",
    "    extra_hudi_options = {\n",
    "    \"hoodie.bulkinsert.shuffle.parallelism\":\"1\",     \n",
    "    \"hoodie.insert.shuffle.parallelism\":\"1\", \n",
    "    \"hoodie.upsert.shuffle.parallelism\":\"1\",\n",
    "    \"hoodie.parquet.compression.ratio\":\"0.5\"\n",
    "    }\n",
    "    # Transform and write batchDF\n",
    "    card_transactions_12h_agg.insert(batchDF,write_options=extra_hudi_options)\n",
    "    batchDF.unpersist()\n",
    "\n",
    "hudi_12h = windowed12hSignalDF.writeStream.foreachBatch(foreach_batch_function_12h)\\\n",
    ".option(\"checkpointLocation\", \"hdfs:///Projects/card_fraud_demo/Resources/checkpoint-12h\")\\\n",
    ".trigger(processingTime=\"10 seconds\")\\\n",
    ".start()"
   ]
  },
  {
   "cell_type": "code",
   "execution_count": null,
   "id": "7f003c22",
   "metadata": {},
   "outputs": [],
   "source": []
  },
  {
   "cell_type": "code",
   "execution_count": 56,
   "id": "2194edd3",
   "metadata": {},
   "outputs": [
    {
     "name": "stdout",
     "output_type": "stream",
     "text": [
      "True"
     ]
    }
   ],
   "source": [
    "hudi_card.isActive"
   ]
  },
  {
   "cell_type": "code",
   "execution_count": 57,
   "id": "97c984f5",
   "metadata": {},
   "outputs": [
    {
     "name": "stdout",
     "output_type": "stream",
     "text": [
      "True"
     ]
    }
   ],
   "source": [
    "hudi_10m.isActive"
   ]
  },
  {
   "cell_type": "code",
   "execution_count": 58,
   "id": "506a34c2",
   "metadata": {},
   "outputs": [
    {
     "name": "stdout",
     "output_type": "stream",
     "text": [
      "True"
     ]
    }
   ],
   "source": [
    "hudi_1h.isActive"
   ]
  },
  {
   "cell_type": "code",
   "execution_count": 59,
   "id": "da5d59eb",
   "metadata": {},
   "outputs": [
    {
     "name": "stdout",
     "output_type": "stream",
     "text": [
      "True"
     ]
    }
   ],
   "source": [
    "hudi_12h.isActive"
   ]
  },
  {
   "cell_type": "code",
   "execution_count": 26,
   "id": "b59d0df0",
   "metadata": {},
   "outputs": [],
   "source": []
  },
  {
   "cell_type": "markdown",
   "id": "a6b4fd4a",
   "metadata": {},
   "source": [
    "# Stop queries\n",
    "If you are running this from a notebook, you can kill the Spark Structured Streaming Query by stopping the Kernel or by calling its `.stop()` method."
   ]
  },
  {
   "cell_type": "code",
   "execution_count": 67,
   "id": "641d133a",
   "metadata": {},
   "outputs": [],
   "source": [
    "query_transactions.stop()\n",
    "query_10m.stop()\n",
    "query_1h.stop()\n",
    "query_12h.stop()"
   ]
  },
  {
   "cell_type": "code",
   "execution_count": 68,
   "id": "8d5a9257",
   "metadata": {},
   "outputs": [],
   "source": [
    "hudi_card.stop()\n",
    "hudi_10m.stop()\n",
    "hudi_1h.stop()\n",
    "hudi_12h.stop()"
   ]
  },
  {
   "cell_type": "code",
   "execution_count": null,
   "id": "e134ed4c",
   "metadata": {},
   "outputs": [],
   "source": []
  },
  {
   "cell_type": "code",
   "execution_count": null,
   "id": "22b24d12",
   "metadata": {},
   "outputs": [],
   "source": []
  }
 ],
 "metadata": {
  "kernelspec": {
   "display_name": "PySpark",
   "language": "python",
   "name": "pysparkkernel"
  },
  "language_info": {
   "codemirror_mode": {
    "name": "python",
    "version": 3
   },
   "mimetype": "text/x-python",
   "name": "pyspark",
   "pygments_lexer": "python3"
  }
 },
 "nbformat": 4,
 "nbformat_minor": 5
}