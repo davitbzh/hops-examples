{
 "cells": [
  {
   "cell_type": "code",
   "execution_count": 1,
   "id": "779c09c6",
   "metadata": {},
   "outputs": [
    {
     "name": "stdout",
     "output_type": "stream",
     "text": [
      "Starting Spark application\n"
     ]
    },
    {
     "data": {
      "text/html": [
       "<table>\n",
       "<tr><th>ID</th><th>YARN Application ID</th><th>Kind</th><th>State</th><th>Spark UI</th><th>Driver log</th></tr><tr><td>60</td><td>application_1618238932364_0065</td><td>pyspark</td><td>idle</td><td><a target=\"_blank\" href=\"/hopsworks-api/yarnui/https://ofs-head.hw.se:8089/proxy/application_1618238932364_0065/\">Link</a></td><td><a target=\"_blank\" href=\"/hopsworks-api/yarnui/https://ofs-w1.internal.cloudapp.net:8044/node/containerlogs/container_1618238932364_0065_01_000001/card_fraud_demo__davit000\">Link</a></td></tr></table>"
      ],
      "text/plain": [
       "<IPython.core.display.HTML object>"
      ]
     },
     "metadata": {},
     "output_type": "display_data"
    },
    {
     "name": "stdout",
     "output_type": "stream",
     "text": [
      "SparkSession available as 'spark'.\n",
      "Connected. Call `.close()` to terminate connection gracefully."
     ]
    }
   ],
   "source": [
    "import hsfs\n",
    "import json\n",
    "from hops import kafka, tls\n",
    "from hsfs import engine\n",
    "\n",
    "from pyspark.sql.functions import from_json, window, avg,count, stddev, explode, date_format,col\n",
    "from pyspark.sql.types import StructField, StructType, StringType, DoubleType, TimestampType, LongType, IntegerType\n",
    "\n",
    "connection = hsfs.connection()\n",
    "fs = connection.get_feature_store()"
   ]
  },
  {
   "cell_type": "markdown",
   "id": "be9570d1",
   "metadata": {},
   "source": [
    "## Create empty feature groups\n"
   ]
  },
  {
   "cell_type": "code",
   "execution_count": 2,
   "id": "133aad95",
   "metadata": {},
   "outputs": [],
   "source": [
    "card_schema = StructType([StructField('tid', StringType(), True),\n",
    "                         StructField('datetime', StringType(), True),\n",
    "                         StructField('cc_num', LongType(), True),\n",
    "                         StructField('amount', DoubleType(), True)])\n",
    "\n",
    "schema_10m = StructType([StructField('cc_num', LongType(), True),\n",
    "                         StructField('num_trans_per_10m', LongType(), True),\n",
    "                         StructField('avg_amt_per_10m', DoubleType(), True),\n",
    "                         StructField('stdev_amt_per_10m', DoubleType(), True)])\n",
    "\n",
    "schema_1h = StructType([StructField('cc_num', LongType(), True),\n",
    "                         StructField('num_trans_per_1h', LongType(), True),\n",
    "                         StructField('avg_amt_per_1h', DoubleType(), True),\n",
    "                         StructField('stdev_amt_per_1h', DoubleType(), True)])\n",
    "\n",
    "schema_12h = StructType([StructField('cc_num', LongType(), True),\n",
    "                         StructField('num_trans_per_12h', LongType(), True),\n",
    "                         StructField('avg_amt_per_12h', DoubleType(), True),\n",
    "                         StructField('stdev_amt_per_12h', DoubleType(), True)])\n"
   ]
  },
  {
   "cell_type": "code",
   "execution_count": 3,
   "id": "178b1140",
   "metadata": {},
   "outputs": [
    {
     "name": "stdout",
     "output_type": "stream",
     "text": [
      "<hsfs.feature_group.FeatureGroup object at 0x7efc6ecb0390>"
     ]
    }
   ],
   "source": [
    "empty_card_df = sqlContext.createDataFrame(sc.emptyRDD(), card_schema)\n",
    "\n",
    "card_transactions = fs.create_feature_group(\"card_transactions\", \n",
    "                                              version = 6,\n",
    "                                              online_enabled=True, \n",
    "                                              statistics_config=False, \n",
    "                                              primary_key=[\"tid\"])\n",
    "\n",
    "card_transactions.save(empty_card_df)"
   ]
  },
  {
   "cell_type": "code",
   "execution_count": 4,
   "id": "1ce4c83b",
   "metadata": {},
   "outputs": [
    {
     "name": "stdout",
     "output_type": "stream",
     "text": [
      "<hsfs.feature_group.FeatureGroup object at 0x7efc6ecb0250>"
     ]
    }
   ],
   "source": [
    "empty_10m_agg_df = sqlContext.createDataFrame(sc.emptyRDD(), schema_10m)\n",
    "\n",
    "card_transactions_10m_agg = fs.create_feature_group(\"card_transactions_10m_agg\", \n",
    "                                              version = 6,\n",
    "                                              online_enabled=True, \n",
    "                                              statistics_config=False, \n",
    "                                              primary_key=[\"cc_num\"])\n",
    "\n",
    "card_transactions_10m_agg.save(empty_10m_agg_df)\n"
   ]
  },
  {
   "cell_type": "code",
   "execution_count": 5,
   "id": "4d8579ac",
   "metadata": {},
   "outputs": [
    {
     "name": "stdout",
     "output_type": "stream",
     "text": [
      "<hsfs.feature_group.FeatureGroup object at 0x7efc6ec8b390>"
     ]
    }
   ],
   "source": [
    "empty_1h_agg_df = sqlContext.createDataFrame(sc.emptyRDD(), schema_1h)\n",
    "\n",
    "card_transactions_1h_agg = fs.create_feature_group(\"card_transactions_1h_agg\", \n",
    "                                              version = 6,\n",
    "                                              online_enabled=True, \n",
    "                                              statistics_config=False, \n",
    "                                              primary_key=[\"cc_num\"])\n",
    "\n",
    "card_transactions_1h_agg.save(empty_1h_agg_df)\n"
   ]
  },
  {
   "cell_type": "code",
   "execution_count": 6,
   "id": "1e26971f",
   "metadata": {},
   "outputs": [
    {
     "name": "stdout",
     "output_type": "stream",
     "text": [
      "<hsfs.feature_group.FeatureGroup object at 0x7efc6ec83b50>"
     ]
    }
   ],
   "source": [
    "empty_12h_agg_df = sqlContext.createDataFrame(sc.emptyRDD(), schema_12h)\n",
    "\n",
    "card_transactions_12h_agg = fs.create_feature_group(\"card_transactions_12h_agg\", \n",
    "                                              version = 6,\n",
    "                                              online_enabled=True, \n",
    "                                              statistics_config=False, \n",
    "                                              primary_key=[\"cc_num\"])\n",
    "\n",
    "card_transactions_12h_agg.save(empty_12h_agg_df)"
   ]
  },
  {
   "cell_type": "code",
   "execution_count": null,
   "id": "bae5dd99",
   "metadata": {},
   "outputs": [],
   "source": []
  }
 ],
 "metadata": {
  "kernelspec": {
   "display_name": "PySpark",
   "language": "python",
   "name": "pysparkkernel"
  },
  "language_info": {
   "codemirror_mode": {
    "name": "python",
    "version": 3
   },
   "mimetype": "text/x-python",
   "name": "pyspark",
   "pygments_lexer": "python3"
  }
 },
 "nbformat": 4,
 "nbformat_minor": 5
}