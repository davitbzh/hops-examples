{
 "cells": [
  {
   "cell_type": "markdown",
   "metadata": {},
   "source": [
    "---\n",
    "title: \"Online transformation functions\"\n",
    "date: 2021-05-18\n",
    "type: technical_note\n",
    "draft: false\n",
    "---"
   ]
  },
  {
   "cell_type": "markdown",
   "metadata": {},
   "source": [
    "## Create connection to hsfs"
   ]
  },
  {
   "cell_type": "code",
   "execution_count": 1,
   "metadata": {},
   "outputs": [
    {
     "name": "stdout",
     "output_type": "stream",
     "text": [
      "Starting Spark application\n"
     ]
    },
    {
     "data": {
      "text/html": [
       "<table>\n",
       "<tr><th>ID</th><th>YARN Application ID</th><th>Kind</th><th>State</th><th>Spark UI</th><th>Driver log</th></tr><tr><td>22</td><td>application_1621263126797_0002</td><td>pyspark</td><td>idle</td><td><a target=\"_blank\" href=\"/hopsworks-api/yarnui/https://hopsworks0.logicalclocks.com:8089/proxy/application_1621263126797_0002/\">Link</a></td><td><a target=\"_blank\" href=\"/hopsworks-api/yarnui/https://hopsworks0.logicalclocks.com:8044/node/containerlogs/container_e06_1621263126797_0002_01_000001/transformations__meb10000\">Link</a></td></tr></table>"
      ],
      "text/plain": [
       "<IPython.core.display.HTML object>"
      ]
     },
     "metadata": {},
     "output_type": "display_data"
    },
    {
     "name": "stdout",
     "output_type": "stream",
     "text": [
      "SparkSession available as 'spark'.\n",
      "Connected. Call `.close()` to terminate connection gracefully."
     ]
    }
   ],
   "source": [
    "import hsfs\n",
    "connection = hsfs.connection()\n",
    "# get a reference to the feature store, you can access also shared feature stores by providing the feature store name\n",
    "fs = connection.get_feature_store();"
   ]
  },
  {
   "cell_type": "markdown",
   "metadata": {},
   "source": [
    "# Define online transformation\n",
    "#### Online tranformation function has to be part of library installed in Hopsworks. Please refer to [documenation](https://hopsworks.readthedocs.io/en/stable/user_guide/hopsworks/python.html?highlight=install#installing-libraries) how to install python libraries in Hopsworks. For this demo we intalled library from [this](https://github.com/davitbzh/hsfs-transformer-template) repository.\n",
    "#### When defining transformation function don't decorate with spark `@udf` or `@pandas_udfs`, as well as don't use any spark dependecies. HSFS will apply decorations if it used inside spark application."
   ]
  },
  {
   "cell_type": "code",
   "execution_count": 2,
   "metadata": {},
   "outputs": [],
   "source": [
    "from hsfs_transformers import transformer\n",
    "plus_one_float = fs.create_transformation_function(transformation_function=transformer.plus_one, \n",
    "                                                   output_type=float, \n",
    "                                                   version=1)\n",
    "plus_one_float.save()"
   ]
  },
  {
   "cell_type": "code",
   "execution_count": 3,
   "metadata": {},
   "outputs": [],
   "source": [
    "plus_one_int = fs.create_transformation_function(transformation_function=transformer.plus_one, \n",
    "                                                 output_type=int, \n",
    "                                                 version=2)\n",
    "plus_one_int.save()"
   ]
  },
  {
   "cell_type": "code",
   "execution_count": 4,
   "metadata": {},
   "outputs": [],
   "source": [
    "plus_one_double = fs.create_transformation_function(transformation_function=transformer.plus_one, \n",
    "                                                    output_type=\"double\", version=3)\n",
    "plus_one_double.save()"
   ]
  },
  {
   "cell_type": "code",
   "execution_count": 5,
   "metadata": {},
   "outputs": [],
   "source": [
    "date_string_to_timestamp = fs.create_transformation_function(\n",
    "    transformation_function=transformer.date_string_to_timestamp,\n",
    "    output_type=\"long\", version=1)\n",
    "date_string_to_timestamp.save()"
   ]
  },
  {
   "cell_type": "code",
   "execution_count": 6,
   "metadata": {},
   "outputs": [
    {
     "name": "stdout",
     "output_type": "stream",
     "text": [
      "plus_one\n",
      "plus_one\n",
      "date_string_to_timestamp"
     ]
    }
   ],
   "source": [
    "print(plus_one_float.name)\n",
    "print(plus_one_int.name)\n",
    "print(date_string_to_timestamp.name)"
   ]
  },
  {
   "cell_type": "markdown",
   "metadata": {},
   "source": [
    "## Get all online transformations available in the feature store"
   ]
  },
  {
   "cell_type": "code",
   "execution_count": 7,
   "metadata": {},
   "outputs": [
    {
     "name": "stdout",
     "output_type": "stream",
     "text": [
      "[<hsfs.transformation_function.TransformationFunction object at 0x7f0988f6c910>, <hsfs.transformation_function.TransformationFunction object at 0x7f0988f6c390>, <hsfs.transformation_function.TransformationFunction object at 0x7f0988f6c790>, <hsfs.transformation_function.TransformationFunction object at 0x7f0988f6c090>]"
     ]
    }
   ],
   "source": [
    "fs.get_transformation_functions()"
   ]
  },
  {
   "cell_type": "markdown",
   "metadata": {},
   "source": [
    "## Get online transformation by name and version"
   ]
  },
  {
   "cell_type": "code",
   "execution_count": 8,
   "metadata": {},
   "outputs": [
    {
     "name": "stdout",
     "output_type": "stream",
     "text": [
      "<hsfs.transformation_function.TransformationFunction object at 0x7f0988f6ccd0>"
     ]
    }
   ],
   "source": [
    "plus_one = fs.get_transformation_function(name=\"plus_one\")\n",
    "print(plus_one.name)\n",
    "print(plus_one.version)"
   ]
  },
  {
   "cell_type": "code",
   "execution_count": 9,
   "metadata": {},
   "outputs": [
    {
     "name": "stdout",
     "output_type": "stream",
     "text": [
      "plus_one\n",
      "1"
     ]
    }
   ],
   "source": [
    "plus_one_float = fs.get_transformation_function(name=\"plus_one\", version=1)\n",
    "print(plus_one_float.name)\n",
    "print(plus_one_float.version)"
   ]
  },
  {
   "cell_type": "code",
   "execution_count": 10,
   "metadata": {},
   "outputs": [
    {
     "name": "stdout",
     "output_type": "stream",
     "text": [
      "plus_one\n",
      "2"
     ]
    }
   ],
   "source": [
    "plus_one_int = fs.get_transformation_function(name=\"plus_one\", version=2)\n",
    "print(plus_one_int.name)\n",
    "print(plus_one_int.version)"
   ]
  },
  {
   "cell_type": "code",
   "execution_count": 11,
   "metadata": {},
   "outputs": [
    {
     "name": "stdout",
     "output_type": "stream",
     "text": [
      "date_string_to_timestamp\n",
      "1"
     ]
    }
   ],
   "source": [
    "date_string_to_timestamp = fs.get_transformation_function(name=\"date_string_to_timestamp\", version=1)\n",
    "print(date_string_to_timestamp.name)\n",
    "print(date_string_to_timestamp.version)"
   ]
  },
  {
   "cell_type": "markdown",
   "metadata": {},
   "source": [
    "# View online transformation source code\n",
    "##### Since we are using pyspark kernel hsfs will add udf decorator "
   ]
  },
  {
   "cell_type": "code",
   "execution_count": 12,
   "metadata": {},
   "outputs": [
    {
     "name": "stdout",
     "output_type": "stream",
     "text": [
      "import numpy as np\n",
      "import pandas as pd\n",
      "from datetime import datetime\n",
      "from pyspark.sql.functions import udf\n",
      "from pyspark.sql.types import *\n",
      "\n",
      "@udf(FloatType())\n",
      "def plus_one(value):\n",
      "    return value + 1"
     ]
    }
   ],
   "source": [
    "print(plus_one_float.transformer_code)"
   ]
  },
  {
   "cell_type": "code",
   "execution_count": 13,
   "metadata": {},
   "outputs": [
    {
     "name": "stdout",
     "output_type": "stream",
     "text": [
      "import numpy as np\n",
      "import pandas as pd\n",
      "from datetime import datetime\n",
      "from pyspark.sql.functions import udf\n",
      "from pyspark.sql.types import *\n",
      "\n",
      "@udf(IntegerType())\n",
      "def plus_one(value):\n",
      "    return value + 1"
     ]
    }
   ],
   "source": [
    "print(plus_one_int.transformer_code)"
   ]
  },
  {
   "cell_type": "code",
   "execution_count": 14,
   "metadata": {},
   "outputs": [
    {
     "name": "stdout",
     "output_type": "stream",
     "text": [
      "import numpy as np\n",
      "import pandas as pd\n",
      "from datetime import datetime\n",
      "from pyspark.sql.functions import udf\n",
      "from pyspark.sql.types import *\n",
      "\n",
      "@udf(LongType())\n",
      "def date_string_to_timestamp(input_date):\n",
      "    date_format = \"%Y%m%d%H%M%S\"\n",
      "    return int(float(datetime.strptime(input_date, date_format).timestamp()) * 1000)"
     ]
    }
   ],
   "source": [
    "print(date_string_to_timestamp.transformer_code)"
   ]
  },
  {
   "cell_type": "markdown",
   "metadata": {},
   "source": [
    "## Delete transformation function"
   ]
  },
  {
   "cell_type": "code",
   "execution_count": null,
   "metadata": {},
   "outputs": [],
   "source": [
    "plus_one_double = fs.get_transformation_function(name=\"plus_one\", version=3)\n",
    "plus_one_double.delete()"
   ]
  },
  {
   "cell_type": "markdown",
   "metadata": {},
   "source": [
    "# Create training dataset with online transformation\n",
    "### To use online transoformation function for training dataset it must be created from hsfs `Query` object."
   ]
  },
  {
   "cell_type": "code",
   "execution_count": 15,
   "metadata": {},
   "outputs": [],
   "source": [
    "economy_fg = fs.get_feature_group('economy_fg',2)\n",
    "demography_fg = fs.get_feature_group('demography_fg',2)"
   ]
  },
  {
   "cell_type": "code",
   "execution_count": 16,
   "metadata": {},
   "outputs": [
    {
     "name": "stdout",
     "output_type": "stream",
     "text": [
      "+---------+----------+---+--------------+---------+-----+------+--------+----+\n",
      "|     loan|commission| id|      datetime|   salary|  car|hyears|  hvalue|year|\n",
      "+---------+----------+---+--------------+---------+-----+------+--------+----+\n",
      "| 354724.2|       0.0|  1|20200101010101|110499.73|car15|    30|235000.0|2020|\n",
      "|395015.34|       0.0|  2|20200102010101|140893.77|car20|     2|135000.0|2020|\n",
      "|122025.08|       0.0|  3|20200103010101|119159.65| car1|    22|145000.0|2020|\n",
      "| 99629.62|  52593.63|  4|20200104010101|  20000.0| car9|    30|185000.0|2020|\n",
      "+---------+----------+---+--------------+---------+-----+------+--------+----+"
     ]
    }
   ],
   "source": [
    "economy_fg.read().show()"
   ]
  },
  {
   "cell_type": "code",
   "execution_count": 17,
   "metadata": {},
   "outputs": [
    {
     "name": "stdout",
     "output_type": "stream",
     "text": [
      "root\n",
      " |-- loan: float (nullable = true)\n",
      " |-- commission: float (nullable = true)\n",
      " |-- id: integer (nullable = true)\n",
      " |-- datetime: string (nullable = true)\n",
      " |-- salary: float (nullable = true)\n",
      " |-- car: string (nullable = true)\n",
      " |-- hyears: integer (nullable = true)\n",
      " |-- hvalue: float (nullable = true)\n",
      " |-- year: integer (nullable = true)"
     ]
    }
   ],
   "source": [
    "economy_fg.read().printSchema()"
   ]
  },
  {
   "cell_type": "markdown",
   "metadata": {},
   "source": [
    "## Training dataset needs to be created from hsfs `Query` object "
   ]
  },
  {
   "cell_type": "code",
   "execution_count": 18,
   "metadata": {},
   "outputs": [],
   "source": [
    "query = demography_fg.select(['age','elevel','zipcode']).join(economy_fg.select_all())"
   ]
  },
  {
   "cell_type": "markdown",
   "metadata": {},
   "source": [
    "#### Provide transformation functions as dict, where key is feature name and value online transformation function name    "
   ]
  },
  {
   "cell_type": "code",
   "execution_count": 19,
   "metadata": {},
   "outputs": [],
   "source": [
    "td = fs.create_training_dataset(name=\"economy_td\",\n",
    "                               description=\"Dataset to train the some model\",\n",
    "                               data_format=\"csv\",\n",
    "                               transformation_functions={\"hyears\":plus_one_int, \n",
    "                                                         \"loan\":plus_one_float, \n",
    "                                                         \"datetime\": date_string_to_timestamp},\n",
    "                               statistics_config=None, \n",
    "                               version=1)"
   ]
  },
  {
   "cell_type": "code",
   "execution_count": 20,
   "metadata": {},
   "outputs": [
    {
     "name": "stdout",
     "output_type": "stream",
     "text": [
      "{'hyears': <hsfs.transformation_function.TransformationFunction object at 0x7f0988f842d0>, 'loan': <hsfs.transformation_function.TransformationFunction object at 0x7f0988f840d0>, 'datetime': <hsfs.transformation_function.TransformationFunction object at 0x7f0988f845d0>}"
     ]
    }
   ],
   "source": [
    "td._transformation_functions"
   ]
  },
  {
   "cell_type": "code",
   "execution_count": 21,
   "metadata": {},
   "outputs": [
    {
     "name": "stdout",
     "output_type": "stream",
     "text": [
      "'date_string_to_timestamp'"
     ]
    }
   ],
   "source": [
    "td._transformation_functions['datetime'].name"
   ]
  },
  {
   "cell_type": "code",
   "execution_count": 22,
   "metadata": {},
   "outputs": [
    {
     "name": "stdout",
     "output_type": "stream",
     "text": [
      "{'hyears': <hsfs.transformation_function.TransformationFunction object at 0x7f0988f842d0>, 'loan': <hsfs.transformation_function.TransformationFunction object at 0x7f0988f840d0>, 'datetime': <hsfs.transformation_function.TransformationFunction object at 0x7f0988f845d0>}"
     ]
    }
   ],
   "source": [
    "td.transformation_functions"
   ]
  },
  {
   "cell_type": "code",
   "execution_count": null,
   "metadata": {},
   "outputs": [],
   "source": [
    "td.save(query)"
   ]
  },
  {
   "cell_type": "markdown",
   "metadata": {},
   "source": [
    "### Online tranformation functions are now attached to training dataset as medadata and contain information to which feature groups they will be applied "
   ]
  },
  {
   "cell_type": "code",
   "execution_count": 3,
   "metadata": {},
   "outputs": [
    {
     "name": "stdout",
     "output_type": "stream",
     "text": [
      "VersionWarning: No version provided for getting training dataset `economy_td`, defaulting to `1`."
     ]
    }
   ],
   "source": [
    "td = fs.get_training_dataset(\"economy_td\")"
   ]
  },
  {
   "cell_type": "code",
   "execution_count": 4,
   "metadata": {},
   "outputs": [
    {
     "name": "stdout",
     "output_type": "stream",
     "text": [
      "{'loan': <hsfs.transformation_function.TransformationFunction object at 0x7f5f21090510>, 'datetime': <hsfs.transformation_function.TransformationFunction object at 0x7f5f21093710>, 'hyears': <hsfs.transformation_function.TransformationFunction object at 0x7f5f21096890>}"
     ]
    }
   ],
   "source": [
    "td.transformation_functions"
   ]
  },
  {
   "cell_type": "code",
   "execution_count": 5,
   "metadata": {},
   "outputs": [
    {
     "name": "stdout",
     "output_type": "stream",
     "text": [
      "+---+------+--------+---------+----------+---+-------------+---------+-----+------+--------+----+\n",
      "|age|elevel| zipcode|     loan|commission| id|     datetime|   salary|  car|hyears|  hvalue|year|\n",
      "+---+------+--------+---------+----------+---+-------------+---------+-----+------+--------+----+\n",
      "| 49|level2|zipcode4|122026.08|       0.0|  3|1578013261000|119159.65| car1|    23|145000.0|2020|\n",
      "| 56|level0|zipcode2| 99630.62|  52593.63|  4|1578099661000|  20000.0| car9|    31|185000.0|2020|\n",
      "| 54|level3|zipcode5| 354725.2|       0.0|  1|1577840461000|110499.73|car15|    31|235000.0|2020|\n",
      "| 44|level4|zipcode8|395016.34|       0.0|  2|1577926861000|140893.77|car20|     3|135000.0|2020|\n",
      "+---+------+--------+---------+----------+---+-------------+---------+-----+------+--------+----+"
     ]
    }
   ],
   "source": [
    "td.read().show()"
   ]
  }
 ],
 "metadata": {
  "kernelspec": {
   "display_name": "Python 3",
   "language": "python",
   "name": "python3"
  },
  "language_info": {
   "codemirror_mode": {
    "name": "ipython",
    "version": 3
   },
   "file_extension": ".py",
   "mimetype": "text/x-python",
   "name": "python",
   "nbconvert_exporter": "python",
   "pygments_lexer": "ipython3",
   "version": "3.7.6"
  }
 },
 "nbformat": 4,
 "nbformat_minor": 4
}
