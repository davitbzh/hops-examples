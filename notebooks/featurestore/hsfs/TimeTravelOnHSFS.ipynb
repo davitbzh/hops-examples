{
 "cells": [
  {
   "cell_type": "markdown",
   "metadata": {},
   "source": [
    "# HudiOnHops\n",
    "\n",
    "In this notebook we will introduce time travel operations on HSFS. Currently HSFS supports the Apache Hudi thats is storage abstraction/library (http://hudi.apache.org/) for doing **incremental** data ingestion to data lakes stored on Hops (e.g a Hopsworks Feature Store).\n",
    "\n",
    "TLDR; Hudi is a storage abstraction/library build on top of Spark. A Hudi dataset stores data in Parquet files and maintains additional metadata to make upserts efficient. A Hudi ingest job is intended to be run as a streaming ingest job, on an interval such as every 15 minutes, reading deltas from a message-bus like Kafka and ingesting the deltas **incrementally** into a data lake.\n",
    "\n",
    "![Incremental ETL](./../images/incr_load.png \"Incremetal ETL\")"
   ]
  },
  {
   "cell_type": "markdown",
   "metadata": {},
   "source": [
    "## Background"
   ]
  },
  {
   "cell_type": "markdown",
   "metadata": {},
   "source": [
    "### Motivation\n",
    "\n",
    "Hudi is an open-source library for doing incremental ingestion of data for large analytical datasets stored on distributed file systems. The library was originally developed at Uber to improve their data latency, but  it is now an Apache project.\n",
    "\n",
    "The main motivation for Hudi is that it reduces the **data latency** for ingesting large datasets into data lakes. Traditional ETL typically involves taking a snapshot of a production database and doing a full load into a data lake (typically stored on a distributed file system). Using the snapshot approach for ETL is simple since the snapshot is immutable and can be loaded as an atomic unit into the data lake. However, the con of taking this approach to doing data ingestion is that it is *slow*. Even if just a single record have been updated since the last data ingestion, the entire table has to be re-written. If you are working with Big Data (TB or PB size datasets) then this will introduce significant *data latency* (up to 24 hours in Uber's case) and *wasted resources* (majority of the writes when ingesting the snapshot is redundant as most of the records have not been updated since the last ETL step). \n",
    "\n",
    "This motivates the use-case for **incremental** data ingestion. Incremental data ingestion means that only deltas/changelogs since the last ingestion are inserted. \n",
    "\n",
    "Incremental ingestion lies in-between traditional batch ingestion and the streaming use-case. It can provide data latency as low as *minutes* for petabyte-scale datasets. The incremental mode for processing introduces new trade-offs compared to streaming and batch. It has lower data latency than traditional batch processing, but a slightly higher latency than stream processing. Why not go full-streaming instead of the incremental processing? It boils down to your requirements and trade-offs. If you need data latency in the order of seconds, then you have to use stream processing (e.g fraud detection). However if your business can do with data latency in the order of say 5 minutes (applications which are fine with this latency could be feature engineering pipelines, building dashboards, or doing near-real-time analytics), then incremental processing really shines. \n",
    "\n",
    "With incremental processing, you process data in *mini-batches* and run the spark job frequently, every 15 minutes or so. By using mini-batches rather than record-by-record streaming, the incremental model makes better use of resources and makes it easier to do complex processing and joins which are more suited for the batch-style of processing rather than stream-processing.\n",
    "\n",
    "![Near Real Time](./../images/near_real_time.jpg \"Near Real Time\")\n",
    "\n",
    "If the data is immutable by design, incremental processing can be done without any additional ingestion library, just use the *append* primitive supported in HDFS through some HDFS client, such as Spark, e.g:\n",
    "\n",
    "```scala\n",
    "newRecordsDf = (...)\n",
    "newRecordsDf.write.format(\"hive\").mode(\"append\").insertInto(tableName)\n",
    "```\n",
    "\n",
    "Unfortunately, data is rarely immutable in practice. A bank transaction might be reverted, a customer might change his or her home adress, and a customer review might be updated, to give a few examples. This is where Hudi comes into the picture. Hudi stands for `Hadoop Upserts anD Incrementals` and brings two new primitives for data engineering on distributed file systems (in addition to append/read):\n",
    "\n",
    "- `Upsert`: the ability to do insertions (appends) and updates efficiently. \n",
    "- `Incremental reads`: the ability to read datasets incrementally using the notion of \"commits\".\n",
    "\n",
    "![Upserts](./../images/upsert_illustration.png \"Upserts\")\n",
    "\n",
    "Lets consider the process of updating a single record in a data lake of Parquet files stored on a distributed file system. Without using Hudi, this would entail scanning the entire dataset to find the record in order to do the update and then rewrite the entire dataset: \n",
    "\n",
    "```scala\n",
    "updatedRecordsDf = (...)\n",
    "updatedRecordsDf.write.format(\"hive\").mode(\"overwrite\").insertInto(tableName) \n",
    "```\n",
    "\n",
    "This does not scale and HDFS/Parquet is not designed for this use-case. With Hudi, the upsert operation is a first-class primitive in the ingestion framework and it is optimized to be fast using index-lookups and atomic updates. We will see how we can use Hudi for this purpose later on in the notebook, but essentially it is as simple as :\n",
    "\n",
    "```scala\n",
    "updatedRecordsDf = (...)\n",
    "upsertDf.write.format(\"org.apache.hudi\")\n",
    "              .option(\"hoodie.datasource.write.operation\", \"upsert\")\n",
    "              ...\n",
    "```"
   ]
  },
  {
   "cell_type": "markdown",
   "metadata": {},
   "source": [
    "### What is Hudi\n",
    "\n",
    "Hudi is a Spark library that is intended to be run as a streaming ingest job, and ingests data as mini-batches (typically on the order of one to two minutes). A Hudi job generally reads delta-updates from a message-bus like Kafka, and upserts them into a data lake stored on a distributed file system. By maintaining bloom indexes and commit logs, Hudi provide ACID transactions, time-travel and scalable upserts.\n",
    "\n",
    "![Hudi Dataset](./../images/hudi_dataset.png \"Hudi Dataset\")"
   ]
  },
  {
   "cell_type": "markdown",
   "metadata": {},
   "source": [
    "### How Hudi can be used for ML and Feature Pipelines\n",
    "\n",
    "Hudi is integrated in the Hopsworks Feature Store for doing incremental feature computation and for point-in-time correctness and backfilling of feature data.\n",
    "\n",
    "![Incremental Feature Engineering](./../images/featurestore_incremental_pull.png \"Incremetal Feature Engineering\")"
   ]
  },
  {
   "cell_type": "markdown",
   "metadata": {},
   "source": [
    "## Examples"
   ]
  },
  {
   "cell_type": "markdown",
   "metadata": {},
   "source": [
    "import com.logicalclocks.hsfs._\n",
    "import scala.collection.JavaConversions._\n",
    "import collection.JavaConverters._\n",
    "\n",
    "import org.apache.spark.sql.{ DataFrame, Row }\n",
    "import org.apache.spark.sql.catalyst.expressions.GenericRow\n",
    "import org.apache.spark.sql.types._\n",
    "\n",
    "import java.sql.Date\n",
    "import java.sql.Timestamp\n",
    "\n",
    "val connection = HopsworksConnection.builder().build();\n",
    "val fs = connection.getFeatureStore();"
   ]
  },
  {
   "cell_type": "markdown",
   "metadata": {},
   "source": [
    "### Bulk Insert of Sample Dataset into a Hudi Dataset\n",
    "\n",
    "Lets first create new feature group with time travel format `HUDI` and ingest some sample data. "
   ]
  },
  {
   "cell_type": "markdown",
   "metadata": {},
   "source": [
    "#### Generate the sample data"
   ]
  },
  {
   "cell_type": "code",
   "execution_count": 2,
   "metadata": {},
   "outputs": [
    {
     "name": "stdout",
     "output_type": "stream",
     "text": [
      "bulkInsertData: Seq[org.apache.spark.sql.Row] = List([1,2019-03-02,0.4151,Sweden], [2,2019-05-01,1.2151,Ireland], [3,2019-08-06,0.2151,Belgium], [4,2019-08-06,0.8151,Russia])\n",
      "schema: List[org.apache.spark.sql.types.StructField] = List(StructField(id,IntegerType,true), StructField(date,DateType,true), StructField(value,FloatType,true), StructField(country,StringType,true))\n",
      "bulkInsertDf: org.apache.spark.sql.DataFrame = [id: int, date: date ... 2 more fields]\n",
      "+---+----------+------+-------+\n",
      "| id|      date| value|country|\n",
      "+---+----------+------+-------+\n",
      "|  1|2019-03-02|0.4151| Sweden|\n",
      "|  2|2019-05-01|1.2151|Ireland|\n",
      "|  3|2019-08-06|0.2151|Belgium|\n",
      "|  4|2019-08-06|0.8151| Russia|\n",
      "+---+----------+------+-------+\n",
      "\n"
     ]
    }
   ],
   "source": [
    "val bulkInsertData = Seq(\n",
    "    Row(1, Date.valueOf(\"2019-02-30\"), 0.4151f, \"Sweden\"),\n",
    "    Row(2, Date.valueOf(\"2019-05-01\"), 1.2151f, \"Ireland\"),\n",
    "    Row(3, Date.valueOf(\"2019-08-06\"), 0.2151f, \"Belgium\"),\n",
    "    Row(4, Date.valueOf(\"2019-08-06\"), 0.8151f, \"Russia\")\n",
    ")\n",
    "val schema = \n",
    " scala.collection.immutable.List(\n",
    "  StructField(\"id\", IntegerType, true),\n",
    "  StructField(\"date\", DateType, true),\n",
    "  StructField(\"value\", FloatType, true),\n",
    "  StructField(\"country\", StringType, true) \n",
    ")\n",
    "val bulkInsertDf = spark.createDataFrame(\n",
    "  spark.sparkContext.parallelize(bulkInsertData),\n",
    "  StructType(schema)\n",
    ")\n",
    "bulkInsertDf.show(5)"
   ]
  },
  {
   "cell_type": "markdown",
   "metadata": {},
   "source": [
    "#### Bulk load the sample data into a new Feature group.\n",
    "\n",
    "We will create a dataset/table called `hello_hudi` :\n",
    "\n",
    "```\n",
    "+---+----------+------+-------+\n",
    "| id|      date| value|country|\n",
    "+---+----------+------+-------+\n",
    "|  1|2019-03-02|0.4151| Sweden|\n",
    "|  2|2019-05-01|1.2151|Ireland|\n",
    "|  3|2019-08-06|0.2151|Belgium|\n",
    "|  4|2019-08-06|0.8151| Russia|\n",
    "+---+----------+------+-------+\n",
    "```\n",
    "and the dataset with primary key `id` and will be partitioned on the `date` column. "
   ]
  },
  {
   "cell_type": "markdown",
   "metadata": {},
   "source": [
    "val hudi_fg = fs.createFeatureGroup().\n",
    "name(\"hello_hudi\").\n",
    "description(\"Sample feature group\").\n",
    "version(1).\n",
    "primaryKeys(Seq(\"id\")).\n",
    "partitionKeys(Seq(\"date\")).\n",
    "timeTravelFormat(TimeTravelFormat.HUDI).\n",
    "onlineEnabled(false).\n",
    "build();\n",
    "hudi_fg.save(bulkInsertDf);"
   ]
  },
  {
   "cell_type": "markdown",
   "metadata": {},
   "source": [
    "#### Hudi Commits\n",
    "\n",
    "Hudi introduces the notion of `commits` which means that it supports certain properties of traditional databases such as single-table transactions, snapshot isolation, atomic upserts and savepoints for data recovery. If an ingestion fails for some reason, no partial results will be written rather the ingestion will be roll-backed. The commit is implemented using atomic `mv` operation in HDFS. \n",
    "\n",
    "Currently, the hudi dataset contains only a single commit as we've just done a single bulk-insert:"
   ]
  },
  {
   "cell_type": "code",
   "execution_count": 6,
   "metadata": {},
   "outputs": [
    {
     "name": "stdout",
     "output_type": "stream",
     "text": [
      "res5: String = 20190904114951\n"
     ]
    }
   ],
   "source": [
    "hudi_fg.commitDetails()"
   ]
  },
  {
   "cell_type": "markdown",
   "metadata": {},
   "source": [
    "### Upsert new data into a Feature Group\n",
    "\n",
    "So far we have not done anything time travel special, we simply did a regular bulk-insert of some data into a Hudi enabled feature group. We could have done the same thing using just regular None Hudi enabled Feature group. However now we will look into how we can do upserts, and how HSFS with Hudi enables us to do this efficiently."
   ]
  },
  {
   "cell_type": "markdown",
   "metadata": {},
   "source": [
    "#### Generate Sample Upserts Data"
   ]
  },
  {
   "cell_type": "code",
   "execution_count": 13,
   "metadata": {},
   "outputs": [
    {
     "name": "stdout",
     "output_type": "stream",
     "text": [
      "upsertData: Seq[org.apache.spark.sql.Row] = List([5,2019-03-02,0.7921,Northern Ireland], [1,2019-05-01,1.151,Norway], [3,2019-08-06,0.999,Belgium], [6,2019-08-06,0.0151,France])\n",
      "upsertDf: org.apache.spark.sql.DataFrame = [id: int, date: date ... 2 more fields]\n",
      "+---+----------+------+----------------+\n",
      "| id|      date| value|         country|\n",
      "+---+----------+------+----------------+\n",
      "|  5|2019-03-02|0.7921|Northern Ireland|\n",
      "|  1|2019-05-01| 1.151|          Norway|\n",
      "|  3|2019-08-06| 0.999|         Belgium|\n",
      "|  6|2019-08-06|0.0151|          France|\n",
      "+---+----------+------+----------------+\n",
      "\n"
     ]
    }
   ],
   "source": [
    "val upsertData = Seq(\n",
    "    Row(5, Date.valueOf(\"2019-02-30\"), 0.7921f, \"Northern Ireland\"), //Insert\n",
    "    Row(1, Date.valueOf(\"2019-05-01\"), 1.151f, \"Norway\"), //Update\n",
    "    Row(3, Date.valueOf(\"2019-08-06\"), 0.999f, \"Belgium\"), //Update\n",
    "    Row(6, Date.valueOf(\"2019-08-06\"), 0.0151f, \"France\") //Insert\n",
    ")\n",
    "val upsertDf = spark.createDataFrame(\n",
    "  spark.sparkContext.parallelize(upsertData),\n",
    "  StructType(schema)\n",
    ")\n",
    "upsertDf.show(5)"
   ]
  },
  {
   "cell_type": "markdown",
   "metadata": {},
   "source": [
    "#### Make the Upsert using HSFS API"
   ]
  },
  {
   "cell_type": "code",
   "execution_count": 14,
   "metadata": {},
   "outputs": [
    {
     "name": "stdout",
     "output_type": "stream",
     "text": [
      "trustStore: String = t_certificate\n",
      "pw: String = EJBVJ7UBVK9O0ZFHQAGPMACAYF01PPWQU470BDIMCQAFYLW6G98ACVYKK0B9NRU3\n",
      "keyStore: String = k_certificate\n",
      "hiveDb: String = demo_featurestore_admin000_featurestore\n",
      "jdbcUrl: String = jdbc:hive2://10.0.2.15:9085/demo_featurestore_admin000_featurestore;auth=noSasl;ssl=true;twoWay=true;sslTrustStore=t_certificate;trustStorePassword=EJBVJ7UBVK9O0ZFHQAGPMACAYF01PPWQU470BDIMCQAFYLW6G98ACVYKK0B9NRU3;sslKeyStore=k_certificate;keyStorePassword=EJBVJ7UBVK9O0ZFHQAGPMACAYF01PPWQU470BDIMCQAFYLW6G98ACVYKK0B9NRU3\n",
      "writer: org.apache.spark.sql.DataFrameWriter[org.apache.spark.sql.Row] = org.apache.spark.sql.DataFrameWriter@6e378681\n"
     ]
    }
   ],
   "source": [
    "fg1.insert(upsertDf)"
   ]
  },
  {
   "cell_type": "markdown",
   "metadata": {},
   "source": [
    "#### Inspect the results\n",
    "\n",
    "Notice that although Hudi stores the old value of the records from the previous commit, when you query the hive table using the `org.apache.hudi` file format, it will only return the values of the latest commit."
   ]
  },
  {
   "cell_type": "code",
   "execution_count": 15,
   "metadata": {},
   "outputs": [
    {
     "name": "stdout",
     "output_type": "stream",
     "text": [
      "+---+------+-------------+----------------+\n",
      "| id| value|         date|         country|\n",
      "+---+------+-------------+----------------+\n",
      "|  3| 0.999|1565049600000|         Belgium|\n",
      "|  1|0.4151|1551484800000|          Sweden|\n",
      "|  5|0.7921|1551484800000|Northern Ireland|\n",
      "|  2|1.2151|1556668800000|         Ireland|\n",
      "|  1| 1.151|1556668800000|          Norway|\n",
      "|  4|0.8151|1565049600000|          Russia|\n",
      "|  6|0.0151|1565049600000|          France|\n",
      "+---+------+-------------+----------------+\n",
      "\n"
     ]
    }
   ],
   "source": []
  },
  {
   "cell_type": "markdown",
   "metadata": {},
   "source": [
    "#### Inspect the updated commit timeline"
   ]
  },
  {
   "cell_type": "code",
   "execution_count": 16,
   "metadata": {},
   "outputs": [
    {
     "name": "stdout",
     "output_type": "stream",
     "text": [
      "res16: String = 20190904115157\n"
     ]
    }
   ],
   "source": [
    "hudi_fg.commitDetails()"
   ]
  },
  {
   "cell_type": "code",
   "execution_count": 17,
   "metadata": {},
   "outputs": [
    {
     "name": "stdout",
     "output_type": "stream",
     "text": [
      "res17: String = org.apache.hudi.common.table.timeline.HoodieDefaultTimeline: [20190904114951__commit__COMPLETED],[20190904115157__commit__COMPLETED]\n"
     ]
    }
   ],
   "source": [
    "HoodieDataSourceHelpers.allCompletedCommitsCompactions(FileSystem.get(sc.hadoopConfiguration), \n",
    "                                     s\"hdfs:///Projects/${Hops.getProjectName}/Resources/hello_hudi_1\").toString"
   ]
  },
  {
   "cell_type": "markdown",
   "metadata": {},
   "source": [
    "### Time Travel\n",
    "\n",
    "Using the timeline metadata we can inspect the value of a table at a specific point in time. We can pull changes incrementally from Hudi. "
   ]
  },
  {
   "cell_type": "code",
   "execution_count": 20,
   "metadata": {},
   "outputs": [
    {
     "name": "stdout",
     "output_type": "stream",
     "text": [
      "+---+------+-------------+----------------+\n",
      "| id| value|         date|         country|\n",
      "+---+------+-------------+----------------+\n",
      "|  3| 0.999|1565049600000|         Belgium|\n",
      "|  5|0.7921|1551484800000|Northern Ireland|\n",
      "|  1| 1.151|1556668800000|          Norway|\n",
      "|  6|0.0151|1565049600000|          France|\n",
      "+---+------+-------------+----------------+\n",
      "\n"
     ]
    }
   ],
   "source": [
    "fg1.read(\"2020-10-20 07:31:36\").show()"
   ]
  },
  {
   "cell_type": "markdown",
   "metadata": {},
   "source": [
    "HSFS also has a feature for incremental reads:\n"
   ]
  },
  {
   "cell_type": "code",
   "execution_count": 21,
   "metadata": {},
   "outputs": [
    {
     "name": "stdout",
     "output_type": "stream",
     "text": [
      "incrementalDf: org.apache.spark.sql.DataFrame = [_hoodie_commit_time: string, _hoodie_commit_seqno: string ... 7 more fields]\n",
      "warning: there was one deprecation warning; re-run with -deprecation for details\n",
      "+---+------+-------------+----------------+\n",
      "| id| value|         date|         country|\n",
      "+---+------+-------------+----------------+\n",
      "|  3| 0.999|1565049600000|         Belgium|\n",
      "|  5|0.7921|1551484800000|Northern Ireland|\n",
      "|  1| 1.151|1556668800000|          Norway|\n",
      "|  6|0.0151|1565049600000|          France|\n",
      "+---+------+-------------+----------------+\n",
      "\n"
     ]
    }
   ],
   "source": [
    "// Pull changes that happened *after* the first commit\n",
    "\n",
    "fg1.readChanges(\"2020-10-20 07:31:36\", \"2020-10-20 07:34:11\").show()"
   ]
  },
  {
   "cell_type": "code",
   "execution_count": 22,
   "metadata": {},
   "outputs": [
    {
     "name": "stdout",
     "output_type": "stream",
     "text": [
      "incrementalDf: org.apache.spark.sql.DataFrame = [_hoodie_commit_time: string, _hoodie_commit_seqno: string ... 7 more fields]\n",
      "warning: there was one deprecation warning; re-run with -deprecation for details\n",
      "+---+------+-------------+----------------+\n",
      "| id| value|         date|         country|\n",
      "+---+------+-------------+----------------+\n",
      "|  3| 0.999|1565049600000|         Belgium|\n",
      "|  1|0.4151|1551484800000|          Sweden|\n",
      "|  5|0.7921|1551484800000|Northern Ireland|\n",
      "|  2|1.2151|1556668800000|         Ireland|\n",
      "|  1| 1.151|1556668800000|          Norway|\n",
      "|  4|0.8151|1565049600000|          Russia|\n",
      "|  6|0.0151|1565049600000|          France|\n",
      "+---+------+-------------+----------------+\n",
      "\n"
     ]
    }
   ],
   "source": [
    "// Pull changes that include both commits (from 2017):\n",
    "fg1.readChanges(\"2020-10-20 07:31:36\", \"2020-10-20 07:34:11\").show()"
   ]
  },
  {
   "cell_type": "code",
   "execution_count": 23,
   "metadata": {},
   "outputs": [
    {
     "name": "stdout",
     "output_type": "stream",
     "text": [
      "incrementalDf: org.apache.spark.sql.DataFrame = [_hoodie_commit_time: string, _hoodie_commit_seqno: string ... 7 more fields]\n",
      "warning: there was one deprecation warning; re-run with -deprecation for details\n",
      "+---+------+-------------+-------+\n",
      "| id| value|         date|country|\n",
      "+---+------+-------------+-------+\n",
      "|  2|1.2151|1556668800000|Ireland|\n",
      "|  4|0.8151|1565049600000| Russia|\n",
      "|  3|0.2151|1565049600000|Belgium|\n",
      "|  1|0.4151|1551484800000| Sweden|\n",
      "+---+------+-------------+-------+\n",
      "\n"
     ]
    }
   ],
   "source": [
    "//Pull only the first commit\n",
    "fg1.read(\"2020-10-20 07:31:36\").show()"
   ]
  },
  {
   "cell_type": "code",
   "execution_count": 24,
   "metadata": {},
   "outputs": [
    {
     "name": "stdout",
     "output_type": "stream",
     "text": [
      "incrementalDf: org.apache.spark.sql.DataFrame = [_hoodie_commit_time: string, _hoodie_commit_seqno: string ... 7 more fields]\n",
      "warning: there was one deprecation warning; re-run with -deprecation for details\n",
      "+---+------+-------------+----------------+\n",
      "| id| value|         date|         country|\n",
      "+---+------+-------------+----------------+\n",
      "|  3| 0.999|1565049600000|         Belgium|\n",
      "|  5|0.7921|1551484800000|Northern Ireland|\n",
      "|  1| 1.151|1556668800000|          Norway|\n",
      "|  6|0.0151|1565049600000|          France|\n",
      "+---+------+-------------+----------------+\n",
      "\n"
     ]
    }
   ],
   "source": [
    "//Pull only the second commit\n",
    "fg1.read(\"2020-10-20 07:31:36\").show()"
   ]
  },
  {
   "cell_type": "markdown",
   "metadata": {},
   "source": [
    "### Create training datasets based on time travel queries"
   ]
  },
  {
   "cell_type": "markdown",
   "metadata": {},
   "source": [
    "#### join featuregroups that correspond to specific point in time"
   ]
  },
  {
   "cell_type": "code",
   "execution_count": null,
   "metadata": {},
   "outputs": [],
   "source": [
    "val joined_features = (fg1.select(Seq(\"value\",\"id\",\"label\"))\n",
    "                   .join(fg2.select(Seq(\"value2\")), Seq(\"id\"), JoinType.INNER)\n",
    "                   .join(fg3.select(Seq(\"value3\")), Seq(\"id\"), JoinType.INNER)\n",
    "                   .asOf(\"2020-10-21\"))  "
   ]
  },
  {
   "cell_type": "code",
   "execution_count": null,
   "metadata": {},
   "outputs": [],
   "source": []
  }
 ],
 "metadata": {
  "kernelspec": {
   "display_name": "Spark",
   "language": "",
   "name": "sparkkernel"
  },
  "language_info": {
   "codemirror_mode": "text/x-scala",
   "mimetype": "text/x-scala",
   "name": "scala",
   "pygments_lexer": "scala"
  }
 },
 "nbformat": 4,
 "nbformat_minor": 4
}
