{
 "cells": [
  {
   "cell_type": "code",
   "execution_count": 1,
   "metadata": {},
   "outputs": [
    {
     "name": "stdout",
     "output_type": "stream",
     "text": [
      "Starting Spark application\n"
     ]
    },
    {
     "data": {
      "text/html": [
       "<table>\n",
       "<tr><th>ID</th><th>YARN Application ID</th><th>Kind</th><th>State</th><th>Spark UI</th><th>Driver log</th></tr><tr><td>13</td><td>application_1599768044375_0016</td><td>spark</td><td>idle</td><td><a target=\"_blank\" href=\"http://resourcemanager.service.consul:8088/proxy/application_1599768044375_0016/\">Link</a></td><td><a target=\"_blank\" href=\"http://hopsworks0.logicalclocks.com:8042/node/containerlogs/container_e01_1599768044375_0016_01_000001/demo_featurestore_admin000__meb10000\">Link</a></td></tr></table>"
      ],
      "text/plain": [
       "<IPython.core.display.HTML object>"
      ]
     },
     "metadata": {},
     "output_type": "display_data"
    },
    {
     "name": "stdout",
     "output_type": "stream",
     "text": [
      "SparkSession available as 'spark'.\n",
      "res1: org.apache.spark.sql.SparkSession = org.apache.spark.sql.SparkSession@782be057\n"
     ]
    }
   ],
   "source": [
    "spark"
   ]
  },
  {
   "cell_type": "code",
   "execution_count": 2,
   "metadata": {},
   "outputs": [
    {
     "name": "stdout",
     "output_type": "stream",
     "text": [
      "SNOWFLAKE_SOURCE_NAME: String = net.snowflake.spark.snowflake\n",
      "sfOptions: scala.collection.immutable.Map[String,String] = Map(sfSchema -> PUBLIC, sfPassword -> HOPSWORKS123, sfRole -> HOPSWORKS_ROLE, sfUser -> HOPSWORKS, sfWarehouse -> HOPSWORKS_WH, sfDatabase -> ML_WORKSHOP, sfURL -> https://ra96958.eu-central-1.snowflakecomputing.com)\n"
     ]
    }
   ],
   "source": [
    "//Step 1: Attached snowflake-jdbc-3.12.8.jar to the cluster.\n",
    "//https://mvnrepository.com/artifact/net.snowflake/snowflake-jdbc/3.12.8\n",
    "//Step 3: Attached spark-snowflake_2.11-2.8.1 driver to the cluster.\n",
    "//https://mvnrepository.com/artifact/net.snowflake/spark-snowflake_2.11/2.8.1\n",
    "\n",
    "val SNOWFLAKE_SOURCE_NAME = \"net.snowflake.spark.snowflake\"\n",
    "val sfOptions = Map(\n",
    "\"sfURL\" -> \"https://ra96958.eu-central-1.snowflakecomputing.com\",\n",
    "\"sfUser\" -> \"HOPSWORKS\",\n",
    "\"sfPassword\" -> \"HOPSWORKS123\",\n",
    "\"sfDatabase\" -> \"ML_WORKSHOP\",    \n",
    "\"sfSchema\" -> \"PUBLIC\",\n",
    "\"sfWarehouse\" -> \"HOPSWORKS_WH\",\n",
    "\"sfRole\" -> \"HOPSWORKS_ROLE\"\n",
    ")\n",
    "\n"
   ]
  },
  {
   "cell_type": "code",
   "execution_count": 3,
   "metadata": {},
   "outputs": [
    {
     "name": "stdout",
     "output_type": "stream",
     "text": [
      "df: org.apache.spark.sql.DataFrame = [CUST_ID: decimal(38,0), STATE: string ... 20 more fields]\n"
     ]
    }
   ],
   "source": [
    "val df = spark.read.\n",
    "format(SNOWFLAKE_SOURCE_NAME).\n",
    "options(sfOptions).\n",
    "option(\"dbtable\", \"CUSTOMER_CHURN\").\n",
    "load()"
   ]
  },
  {
   "cell_type": "code",
   "execution_count": 4,
   "metadata": {},
   "outputs": [
    {
     "name": "stdout",
     "output_type": "stream",
     "text": [
      "+-------+-----+--------------+---------+--------+---------+----------+-------------+--------+---------+----------+--------+---------+----------+----------+-----------+------------+---------+----------+-----------+--------------+------+\n",
      "|CUST_ID|STATE|ACCOUNT_LENGTH|AREA_CODE|   PHONE|INTL_PLAN|VMAIL_PLAN|VMAIL_MESSAGE|DAY_MINS|DAY_CALLS|DAY_CHARGE|EVE_MINS|EVE_CALLS|EVE_CHARGE|NIGHT_MINS|NIGHT_CALLS|NIGHT_CHARGE|INTL_MINS|INTL_CALLS|INTL_CHARGE|CUSTSERV_CALLS| CHURN|\n",
      "+-------+-----+--------------+---------+--------+---------+----------+-------------+--------+---------+----------+--------+---------+----------+----------+-----------+------------+---------+----------+-----------+--------------+------+\n",
      "|      1|   KS|           128|      415|382-4657|       no|       yes|           25|   265.1|      110|     45.07|   197.4|       99|     16.78|     244.7|         91|       11.01|       10|         3|        2.7|             1|False.|\n",
      "|      2|   OH|           107|      415|371-7191|       no|       yes|           26|   161.6|      123|     27.47|   195.5|      103|     16.62|     254.4|        103|       11.45|     13.7|         3|        3.7|             1|False.|\n",
      "|      3|   NJ|           137|      415|358-1921|       no|        no|            0|   243.4|      114|     41.38|   121.2|      110|      10.3|     162.6|        104|        7.32|     12.2|         5|       3.29|             0|False.|\n",
      "|      4|   OH|            84|      408|375-9999|      yes|        no|            0|   299.4|       71|      50.9|    61.9|       88|      5.26|     196.9|         89|        8.86|      6.6|         7|       1.78|             2|False.|\n",
      "|      5|   MA|           121|      510|355-9993|       no|       yes|           24|   218.2|       88|     37.09|   348.5|      108|     29.62|     212.6|        118|        9.57|      7.5|         7|       2.03|             3|False.|\n",
      "|      6|   MO|           147|      415|329-9001|      yes|        no|            0|     157|       79|     26.69|   103.1|       94|      8.76|     211.8|         96|        9.53|      7.1|         6|       1.92|             0|False.|\n",
      "|      7|   LA|           117|      408|335-4719|       no|        no|            0|   184.5|       97|     31.37|   351.6|       80|     29.89|     215.8|         90|        9.71|      8.7|         4|       2.35|             1|False.|\n",
      "|      8|   WV|           141|      415|330-8173|      yes|       yes|           37|   258.6|       84|     43.96|     222|      111|     18.87|     326.4|         97|       14.69|     11.2|         5|       3.02|             0|False.|\n",
      "|      9|   IN|            65|      415|329-6603|       no|        no|            0|   129.1|      137|     21.95|   228.5|       83|     19.42|     208.8|        111|         9.4|     12.7|         6|       3.43|             4| True.|\n",
      "|     10|   RI|            74|      415|344-9403|       no|        no|            0|   187.7|      127|     31.91|   163.4|      148|     13.89|       196|         94|        8.82|      9.1|         5|       2.46|             0|False.|\n",
      "|     11|   IA|            62|      415|366-9238|       no|        no|            0|   120.7|       70|     20.52|   307.2|       76|     26.11|       203|         99|        9.14|     13.1|         6|       3.54|             4|False.|\n",
      "|     12|   ID|            85|      408|350-8884|       no|       yes|           27|   196.4|      139|     33.39|   280.9|       90|     23.88|      89.3|         75|        4.02|     13.8|         4|       3.73|             1|False.|\n",
      "|     13|   VT|            93|      510|386-2923|       no|        no|            0|   190.7|      114|     32.42|   218.2|      111|     18.55|     129.6|        121|        5.83|      8.1|         3|       2.19|             3|False.|\n",
      "|     14|   VA|            76|      510|356-2992|       no|       yes|           33|   189.7|       66|     32.25|   212.8|       65|     18.09|     165.7|        108|        7.46|       10|         5|        2.7|             1|False.|\n",
      "|     15|   FL|           147|      415|396-5800|       no|        no|            0|   155.1|      117|     26.37|   239.7|       93|     20.37|     208.8|        133|         9.4|     10.6|         4|       2.86|             0|False.|\n",
      "|     16|   CO|            77|      408|393-7984|       no|        no|            0|    62.4|       89|     10.61|   169.9|      121|     14.44|     209.6|         64|        9.43|      5.7|         6|       1.54|             5| True.|\n",
      "|     17|   AZ|           130|      415|358-1958|       no|        no|            0|     183|      112|     31.11|    72.9|       99|       6.2|     181.8|         78|        8.18|      9.5|        19|       2.57|             0|False.|\n",
      "|     18|   VA|           132|      510|343-4696|       no|        no|            0|    81.1|       86|     13.79|   245.2|       72|     20.84|       237|        115|       10.67|     10.3|         2|       2.78|             0|False.|\n",
      "|     19|   NE|           174|      415|331-3698|       no|        no|            0|   124.3|       76|     21.13|   277.1|      112|     23.55|     250.7|        115|       11.28|     15.5|         5|       4.19|             3|False.|\n",
      "|     20|   MT|            54|      408|418-6412|       no|        no|            0|   134.3|       73|     22.83|   155.5|      100|     13.22|     102.1|         68|        4.59|     14.7|         4|       3.97|             3|False.|\n",
      "+-------+-----+--------------+---------+--------+---------+----------+-------------+--------+---------+----------+--------+---------+----------+----------+-----------+------------+---------+----------+-----------+--------------+------+\n",
      "only showing top 20 rows\n",
      "\n"
     ]
    }
   ],
   "source": [
    "df.show()"
   ]
  },
  {
   "cell_type": "code",
   "execution_count": null,
   "metadata": {},
   "outputs": [],
   "source": []
  }
 ],
 "metadata": {
  "kernelspec": {
   "display_name": "Spark",
   "language": "scala",
   "name": "sparkkernel"
  },
  "language_info": {
   "codemirror_mode": "text/x-scala",
   "mimetype": "text/x-scala",
   "name": "scala",
   "pygments_lexer": "scala"
  }
 },
 "nbformat": 4,
 "nbformat_minor": 4
}